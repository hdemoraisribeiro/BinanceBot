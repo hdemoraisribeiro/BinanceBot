{
 "cells": [
  {
   "cell_type": "code",
   "execution_count": 1,
   "id": "d0bdccfd-332b-4c4b-b49b-bc72cc6aee71",
   "metadata": {},
   "outputs": [],
   "source": [
    "import time\n",
    "import sqlalchemy, os\n",
    "import sqlite3\n",
    "import pandas as pd\n",
    "from binance.client import Client\n",
    "from dotenv import load_dotenv\n",
    "\n",
    "load_dotenv()\n",
    "\n",
    "API_KEY = os.environ.get(\"API_KEY\")\n",
    "API_SECRET = os.environ.get(\"API_SECRET\")\n",
    "client = Client(API_KEY, API_SECRET)\n",
    "\n",
    "db = sqlite3.connect('crypto.db')\n",
    "db.cursor().execute(\"\"\"\n",
    "    CREATE TABLE inventory (\n",
    "        symbol TEXT,\n",
    "        avg_price REAL\n",
    "    )\"\"\")\n",
    "db.commit()\n",
    "db.close()"
   ]
  },
  {
   "cell_type": "markdown",
   "id": "b7cb56f2-da7e-4f63-80f0-89d722625093",
   "metadata": {},
   "source": [
    "### Profit Window (1%)"
   ]
  },
  {
   "cell_type": "code",
   "execution_count": 2,
   "id": "2d1389de-e410-4a87-b25c-4fd8a0418e87",
   "metadata": {},
   "outputs": [],
   "source": [
    "def fetchall():\n",
    "    db = sqlite3.connect('crypto.db')\n",
    "    cursor = db.cursor()\n",
    "    cursor.execute(\"SELECT * FROM inventory\")\n",
    "    alldata = cursor.fetchall()\n",
    "    db.commit()\n",
    "    db.close()\n",
    "    return alldata\n",
    "\n",
    "def extract_from_tuple(alldata, i = 0):\n",
    "    symbols = [x[i] for x in alldata]\n",
    "    return symbols\n",
    "\n",
    "def add_to_db(symbol, price):\n",
    "    db = sqlite3.connect('crypto.db')\n",
    "    cursor = db.cursor()\n",
    "    cursor.execute(f\"INSERT INTO inventory VALUES ('{symbol}',{price})\")\n",
    "    db.commit()\n",
    "    db.close()\n",
    "    \n",
    "def delete_from_db(symbol):\n",
    "    db = sqlite3.connect('crypto.db')\n",
    "    cursor = db.cursor()\n",
    "    cursor.execute(f\"DELETE FROM inventory WHERE symbol = '{symbol}'\")\n",
    "    db.commit()\n",
    "    db.close()\n",
    "\n",
    "def get_buy_price(symbol):\n",
    "    db = sqlite3.connect('crypto.db')\n",
    "    cursor = db.cursor()\n",
    "    cursor.execute(f\"SELECT avg_price FROM inventory WHERE symbol = '{symbol}'\")\n",
    "    price = cursor.fetchone()[0]\n",
    "    db.commit()\n",
    "    db.close()\n",
    "    return price\n",
    "\n",
    "def buy_symbol(symbol, price):\n",
    "    pass\n",
    "\n",
    "def sell_symbol(symbol):\n",
    "    pass"
   ]
  },
  {
   "cell_type": "code",
   "execution_count": null,
   "id": "e4d724e0-7fb0-40c4-b10e-464dd2c025e3",
   "metadata": {
    "scrolled": true,
    "tags": []
   },
   "outputs": [
    {
     "name": "stdout",
     "output_type": "stream",
     "text": [
      "Program starts\n",
      "CAKEUSDT added to inventory at $4.77098209\n",
      "Sold POWRUSDT at $0.3277615 with 2.63307943327485% profit\n",
      "Sold BELUSDT at $1.07372472 with 6.812901639022509% profit\n",
      "BELUSDT added to inventory at $1.07372472\n",
      "Sold CAKEUSDT at $4.82300991 with 1.090505456078945% profit\n",
      "CAKEUSDT added to inventory at $4.82384018\n",
      "Sold BELUSDT at $1.08472084 with 1.0241097923124973% profit\n",
      "BELUSDT added to inventory at $1.08513697\n",
      "Sold BELUSDT at $1.0961284 with 1.012907154015776% profit\n",
      "BELUSDT added to inventory at $1.09623232\n",
      "Sold BELUSDT at $1.10736192 with 1.0152592472369426% profit\n",
      "BELUSDT added to inventory at $1.10747178\n"
     ]
    }
   ],
   "source": [
    "def strategy(list_of_symbols):\n",
    "    inventory = extract_from_tuple(fetchall())\n",
    "    for symbol in list_of_symbols:\n",
    "        if symbol not in inventory:\n",
    "            try:\n",
    "                price = float(client.get_avg_price(symbol=symbol)['price'])\n",
    "            except:\n",
    "                continue\n",
    "            add_to_db(symbol,price)\n",
    "            print(f\"{symbol} added to inventory at ${price}\")\n",
    "            \n",
    "    for symbol in inventory:\n",
    "        try:\n",
    "            price = float(client.get_avg_price(symbol=symbol)['price'])\n",
    "        except:\n",
    "            continue\n",
    "        buy_price = get_buy_price(symbol)\n",
    "        profit = ((price-buy_price)/buy_price)*100\n",
    "        if profit > 1.01:\n",
    "            delete_from_db(symbol)\n",
    "            print(f\"Sold {symbol} at ${price} with {profit}% profit\")\n",
    "            \n",
    "    # print('Total Profit: '+str(total_profit)+'%\\n')\n",
    "\n",
    "def start():\n",
    "    with open('pairs_level_3.txt','r') as file:\n",
    "        file.seek(0) # Ensure you're at the start of the file..\n",
    "        first_char = file.read(1) # Get the first character\n",
    "        if not first_char:\n",
    "            u=0 # The first character is the empty string..\n",
    "        else:\n",
    "            file.seek(0) # The first character wasn't empty. Return to the start of the file.\n",
    "             # Use file now\n",
    "            strategy(file.readline().split(','))\n",
    "\n",
    "print(\"Program starts\")\n",
    "\n",
    "while(True):\n",
    "    start()"
   ]
  }
 ],
 "metadata": {
  "kernelspec": {
   "display_name": "Python 3 (ipykernel)",
   "language": "python",
   "name": "python3"
  },
  "language_info": {
   "codemirror_mode": {
    "name": "ipython",
    "version": 3
   },
   "file_extension": ".py",
   "mimetype": "text/x-python",
   "name": "python",
   "nbconvert_exporter": "python",
   "pygments_lexer": "ipython3",
   "version": "3.8.10"
  }
 },
 "nbformat": 4,
 "nbformat_minor": 5
}
