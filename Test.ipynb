{
 "cells": [
  {
   "cell_type": "code",
   "execution_count": 1,
   "id": "b6a137f8-bdb6-4956-8c37-eac26f135e3c",
   "metadata": {},
   "outputs": [],
   "source": [
    "import pandas as pd\n",
    "import sqlalchemy, os\n",
    "from binance import BinanceSocketManager\n",
    "from binance.client import Client\n",
    "from dotenv import load_dotenv\n",
    "load_dotenv()\n",
    "\n",
    "API_KEY = os.environ.get(\"API_KEY\")\n",
    "API_SECRET = os.environ.get(\"API_SECRET\")\n",
    "\n",
    "client = Client(API_KEY, API_SECRET)"
   ]
  },
  {
   "cell_type": "code",
   "execution_count": 3,
   "id": "dfe6866f-cdfe-4216-80cc-f13940c7f986",
   "metadata": {
    "scrolled": true,
    "tags": []
   },
   "outputs": [],
   "source": [
    "with open('pairs.txt','r') as file:\n",
    "    for line in file:\n",
    "        symbols = line.split(',')"
   ]
  },
  {
   "cell_type": "code",
   "execution_count": 4,
   "id": "014cc892-04af-445a-b392-b891ec53c1aa",
   "metadata": {
    "scrolled": true,
    "tags": []
   },
   "outputs": [
    {
     "name": "stdout",
     "output_type": "stream",
     "text": [
      "GMTUSDT 37.28\n",
      "MTLUSDT 28.749\n",
      "DREPUSDT 20.765\n",
      "TCTUSDT 18.473\n",
      "FXSUSDT 16.234\n",
      "LINAUSDT 15.96\n",
      "OCEANUSDT 15.905\n",
      "RUNEUSDT 15.89\n",
      "NBTUSDT 15.621\n",
      "DARUSDT 14.873\n",
      "RENUSDT 14.622\n",
      "LUNAUSDT 14.192\n",
      "ZECUSDT 14.1\n",
      "SANDUSDT 13.861\n",
      "BNBUPUSDT 13.699\n",
      "ADAUPUSDT 13.62\n",
      "ETHUPUSDT 13.534\n",
      "LINKUPUSDT 13.5\n",
      "JOEUSDT 13.472\n",
      "MULTIUSDT 13.428\n",
      "BELUSDT 12.725\n",
      "SXPUSDT 12.551\n",
      "PYRUSDT 12.4\n",
      "NEARUSDT 12.339\n",
      "IMXUSDT 12.232\n",
      "SNXUSDT 12.094\n",
      "ICXUSDT 12.006\n",
      "LRCUSDT 11.555\n",
      "BTSUSDT 11.359\n",
      "PLAUSDT 10.965\n",
      "JASMYUSDT 10.857\n",
      "BTCUPUSDT 10.723\n",
      "OGNUSDT 10.655\n",
      "BSWUSDT 10.512\n",
      "APEUSDT 10.509\n",
      "ASTRUSDT 10.15\n",
      "ACAUSDT 10.029\n",
      "SYSUSDT 10.027\n"
     ]
    }
   ],
   "source": [
    "info = client.get_ticker()\n",
    "d = {}\n",
    "for i in info:\n",
    "    d[i['symbol']] = float(i['priceChangePercent'])\n",
    "d2 = {}\n",
    "for i in d:\n",
    "    if i in symbols:\n",
    "        d2[i] = d[i]\n",
    "d2 = {x[0] : x[1] for x in sorted(d2.items(), key=lambda x: x[1], reverse=True)}\n",
    "for x in d2.items():\n",
    "    if x[1] > 10:\n",
    "        print(x[0],x[1])\n"
   ]
  },
  {
   "cell_type": "code",
   "execution_count": null,
   "id": "f921a89a-84e8-4799-992f-76b03ef6f262",
   "metadata": {},
   "outputs": [],
   "source": [
    "# fetch 1 minute klines for the last day up until now\n",
    "klines = client.get_historical_klines(\"BNBBTC\", Client.KLINE_INTERVAL_1MINUTE, \"1 day ago UTC\")\n",
    "\n",
    "# fetch 30 minute klines for the last month of 2017\n",
    "klines = client.get_historical_klines(\"ETHBTC\", Client.KLINE_INTERVAL_30MINUTE, \"1 Dec, 2017\", \"1 Jan, 2018\")\n",
    "\n",
    "# fetch weekly klines since it listed\n",
    "klines = client.get_historical_klines(\"NEOBTC\", Client.KLINE_INTERVAL_1WEEK, \"1 Jan, 2017\")\n",
    "\n",
    "# [\n",
    "#     1499040000000,      // 0 Open time\n",
    "#     \"0.01634790\",       // 1 Open\n",
    "#     \"0.80000000\",       // 2 High\n",
    "#     \"0.01575800\",       // 3 Low\n",
    "#     \"0.01577100\",       // 4 Close\n",
    "#     \"148976.11427815\",  // 5 Volume\n",
    "#     1499644799999,      // 6 Close time\n",
    "#     \"2434.19055334\",    // 7 Quote asset volume\n",
    "#     308,                // 8 Number of trades\n",
    "#     \"1756.87402397\",    // 9 Taker buy base asset volume\n",
    "#     \"28.46694368\",      // 10 Taker buy quote asset volume\n",
    "#     \"17928899.62484339\" // 11 Ignore.\n",
    "# ]"
   ]
  },
  {
   "cell_type": "code",
   "execution_count": null,
   "id": "26ca2310-d592-4d52-aacc-ec9c6fa5aa40",
   "metadata": {},
   "outputs": [],
   "source": [
    "klines=[[1650351360000, '3.25100000', '3.25213000', '3.23643000', '3.23725000', '136298.00000000', 1650351419999, '442179.08394800', 783, '37671.50000000', '122218.22250800', '0'],\n",
    "[1650372900000, '3.29000000', '3.30000000', '3.29000000', '3.29532000', '182334.60000000', 1650372959999, '600759.29294500', 681, '162474.80000000', '535306.09749100', '0']]"
   ]
  },
  {
   "cell_type": "code",
   "execution_count": 86,
   "id": "f9625c43-e63f-4ba8-ba9a-472860dcca3c",
   "metadata": {},
   "outputs": [],
   "source": [
    "# Method for getting price\n",
    "def get_price(ls):\n",
    "    avg = (float(ls[1])+float(ls[4]))/2\n",
    "    price = float(\"{:.4f}\".format(avg))\n",
    "    return price\n",
    "\n",
    "# Method for getting percent change in 6 hour\n",
    "def get_percent_change(ls_1,ls_2):\n",
    "    price_1 = get_price(ls_1)\n",
    "    price_2 = get_price(ls_2)\n",
    "    \n",
    "    change = (price_2 - price_1)/price_1\n",
    "    \n",
    "    change_in_percent = float(\"{:.4f}\".format(change))*100\n",
    "    \n",
    "    return change_in_percent"
   ]
  },
  {
   "cell_type": "code",
   "execution_count": 87,
   "id": "88a059fb-66e1-40ff-9ae3-4ec9a9541bef",
   "metadata": {
    "scrolled": true,
    "tags": []
   },
   "outputs": [
    {
     "name": "stdout",
     "output_type": "stream",
     "text": [
      "[1650353280000, '3.28140000', '3.28664000', '3.27467000', '3.27524000', '89197.00000000', 1650353339999, '292686.58601000', 650, '36617.80000000', '120172.29671500', '0']\n",
      "[1650374820000, '3.28953000', '3.29217000', '3.28773000', '3.28773000', '9012.70000000', 1650374879999, '29650.66075700', 73, '1647.20000000', '5419.46910900', '0']\n",
      "\n",
      "\n",
      "0.31\n"
     ]
    }
   ],
   "source": [
    "from datetime import datetime, timedelta\n",
    "klines = client.get_historical_klines(\"GMTUSDT\", Client.KLINE_INTERVAL_1MINUTE,str(datetime.now() - timedelta(hours=12)), str(datetime.now()))\n",
    "print(get_percent_change(klines[0],klines[-1]))\n",
    "# for lines in klines:\n",
    "#     print(get_time(lines),get_price(lines))\n",
    "#     print('\\n')"
   ]
  },
  {
   "cell_type": "code",
   "execution_count": 75,
   "id": "bc011196-e6a7-4967-81ff-699d96836054",
   "metadata": {},
   "outputs": [
    {
     "name": "stdout",
     "output_type": "stream",
     "text": [
      "2022-04-18 18:19:07.716449\n"
     ]
    }
   ],
   "source": [
    "from datetime import datetime, timedelta\n",
    "print(str(datetime.now() - timedelta(days=1)))"
   ]
  },
  {
   "cell_type": "code",
   "execution_count": 61,
   "id": "e0c53e0e-8206-43b2-b9df-760b13239acb",
   "metadata": {},
   "outputs": [
    {
     "name": "stdout",
     "output_type": "stream",
     "text": [
      "[1648512000000, '0.00912600', '0.00922100', '0.00912000', '0.00919100', '33485.02900000', 1648555199999, '306.84534432', 24123, '16956.93100000', '155.40880110', '0']\n",
      "[1648555200000, '0.00919200', '0.00922700', '0.00911500', '0.00915500', '43299.32600000', 1648598399999, '396.60893009', 27090, '22240.24000000', '203.73826752', '0']\n",
      "[1648598400000, '0.00915500', '0.00928900', '0.00910100', '0.00928400', '44239.16000000', 1648641599999, '406.35709700', 31007, '23472.24300000', '215.66384180', '0']\n"
     ]
    }
   ],
   "source": [
    "for i in klines:\n",
    "    print(i)"
   ]
  },
  {
   "cell_type": "code",
   "execution_count": null,
   "id": "cbf54d87-5eb8-4cfe-ba68-cb5808ba6839",
   "metadata": {},
   "outputs": [],
   "source": [
    "# The following code was in code cell no 2\n",
    "# Creating Socket Manager\n",
    "bsm = BinanceSocketManager(client)\n",
    "\n",
    "# Creating a socket for BTC-USDT pair\n",
    "# socket = bsm.trade_socket('BTCUSDT')\n",
    "socket = bsm.trade_socket(PAIR)"
   ]
  }
 ],
 "metadata": {
  "kernelspec": {
   "display_name": "Python 3 (ipykernel)",
   "language": "python",
   "name": "python3"
  },
  "language_info": {
   "codemirror_mode": {
    "name": "ipython",
    "version": 3
   },
   "file_extension": ".py",
   "mimetype": "text/x-python",
   "name": "python",
   "nbconvert_exporter": "python",
   "pygments_lexer": "ipython3",
   "version": "3.8.10"
  }
 },
 "nbformat": 4,
 "nbformat_minor": 5
}
