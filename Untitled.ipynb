{
 "cells": [
  {
   "cell_type": "markdown",
   "id": "697b627e",
   "metadata": {},
   "source": [
    "### Import Libraries"
   ]
  },
  {
   "cell_type": "code",
   "execution_count": 1,
   "id": "627e2100",
   "metadata": {},
   "outputs": [],
   "source": [
    "import pandas as pd\n",
    "import sqlalchemy, os\n",
    "from binance import BinanceSocketManager\n",
    "from binance.client import Client\n",
    "from dotenv import load_dotenv\n",
    "load_dotenv()"
   ]
  },
  {
   "cell_type": "markdown",
   "id": "cdf97f15",
   "metadata": {},
   "source": [
    "### Environment variables"
   ]
  },
  {
   "cell_type": "code",
   "execution_count": 8,
   "id": "35e3dfe0",
   "metadata": {},
   "outputs": [],
   "source": [
    "API_KEY = os.environ.get(\"API_KEY\")\n",
    "API_SECRET = os.environ.get(\"API_SECRET\")"
   ]
  },
  {
   "cell_type": "code",
   "execution_count": 10,
   "id": "79968cca",
   "metadata": {},
   "outputs": [],
   "source": [
    "client = Client(API_KEY, API_SECRET)"
   ]
  },
  {
   "cell_type": "code",
   "execution_count": 11,
   "id": "1efa50e4",
   "metadata": {},
   "outputs": [],
   "source": [
    "bsm = BinanceSocketManager(client)"
   ]
  },
  {
   "cell_type": "code",
   "execution_count": 12,
   "id": "7d6fd19a",
   "metadata": {},
   "outputs": [],
   "source": [
    "socket = bsm.trade_socket('BTCUSDT')"
   ]
  },
  {
   "cell_type": "code",
   "execution_count": null,
   "id": "57645494",
   "metadata": {
    "scrolled": true
   },
   "outputs": [
    {
     "name": "stdout",
     "output_type": "stream",
     "text": [
      "    symbol                    Time    Price\n",
      "0  BTCUSDT 2022-02-04 08:51:51.488  37891.8\n",
      "    symbol                    Time     Price\n",
      "0  BTCUSDT 2022-02-04 08:51:53.207  37891.81\n",
      "    symbol                    Time     Price\n",
      "0  BTCUSDT 2022-02-04 08:51:53.207  37891.81\n",
      "    symbol                    Time     Price\n",
      "0  BTCUSDT 2022-02-04 08:51:53.208  37891.81\n",
      "    symbol                    Time     Price\n",
      "0  BTCUSDT 2022-02-04 08:51:53.210  37891.81\n",
      "    symbol                    Time     Price\n",
      "0  BTCUSDT 2022-02-04 08:51:53.271  37891.81\n",
      "    symbol                    Time     Price\n",
      "0  BTCUSDT 2022-02-04 08:51:53.298  37891.81\n",
      "    symbol                    Time     Price\n",
      "0  BTCUSDT 2022-02-04 08:51:54.081  37891.81\n",
      "    symbol                    Time    Price\n",
      "0  BTCUSDT 2022-02-04 08:51:54.487  37891.8\n",
      "    symbol                    Time     Price\n",
      "0  BTCUSDT 2022-02-04 08:51:55.199  37891.81\n",
      "    symbol                    Time    Price\n",
      "0  BTCUSDT 2022-02-04 08:51:55.226  37891.8\n",
      "    symbol                    Time     Price\n",
      "0  BTCUSDT 2022-02-04 08:51:55.510  37891.81\n",
      "    symbol                    Time     Price\n",
      "0  BTCUSDT 2022-02-04 08:51:55.776  37891.81\n",
      "    symbol                    Time     Price\n",
      "0  BTCUSDT 2022-02-04 08:51:55.776  37891.81\n",
      "    symbol                    Time     Price\n",
      "0  BTCUSDT 2022-02-04 08:51:55.899  37895.86\n",
      "    symbol                    Time     Price\n",
      "0  BTCUSDT 2022-02-04 08:51:56.368  37893.27\n",
      "    symbol                    Time     Price\n",
      "0  BTCUSDT 2022-02-04 08:51:56.368  37893.56\n",
      "    symbol                    Time     Price\n",
      "0  BTCUSDT 2022-02-04 08:51:56.368  37895.67\n",
      "    symbol                    Time     Price\n",
      "0  BTCUSDT 2022-02-04 08:51:56.368  37897.91\n",
      "    symbol                    Time     Price\n",
      "0  BTCUSDT 2022-02-04 08:51:56.368  37897.92\n",
      "    symbol                    Time     Price\n",
      "0  BTCUSDT 2022-02-04 08:51:56.368  37897.97\n",
      "    symbol                    Time     Price\n",
      "0  BTCUSDT 2022-02-04 08:51:56.368  37897.99\n",
      "    symbol                    Time     Price\n",
      "0  BTCUSDT 2022-02-04 08:51:56.368  37897.99\n",
      "    symbol                    Time     Price\n",
      "0  BTCUSDT 2022-02-04 08:51:56.368  37897.99\n",
      "    symbol                    Time     Price\n",
      "0  BTCUSDT 2022-02-04 08:51:56.753  37895.64\n",
      "    symbol                    Time     Price\n",
      "0  BTCUSDT 2022-02-04 08:51:56.753  37895.64\n",
      "    symbol                    Time     Price\n",
      "0  BTCUSDT 2022-02-04 08:51:56.753  37895.64\n",
      "    symbol                    Time     Price\n",
      "0  BTCUSDT 2022-02-04 08:51:56.776  37895.65\n",
      "    symbol                    Time     Price\n",
      "0  BTCUSDT 2022-02-04 08:51:56.790  37895.64\n",
      "    symbol                    Time    Price\n",
      "0  BTCUSDT 2022-02-04 08:51:56.820  37892.8\n",
      "    symbol                    Time     Price\n",
      "0  BTCUSDT 2022-02-04 08:51:57.329  37892.24\n",
      "    symbol                    Time     Price\n",
      "0  BTCUSDT 2022-02-04 08:51:57.543  37892.24\n",
      "    symbol                    Time     Price\n",
      "0  BTCUSDT 2022-02-04 08:51:57.740  37892.24\n",
      "    symbol                    Time     Price\n",
      "0  BTCUSDT 2022-02-04 08:51:57.844  37892.24\n",
      "    symbol                    Time     Price\n",
      "0  BTCUSDT 2022-02-04 08:51:58.070  37892.24\n",
      "    symbol                    Time     Price\n",
      "0  BTCUSDT 2022-02-04 08:51:58.070  37892.24\n",
      "    symbol                    Time     Price\n",
      "0  BTCUSDT 2022-02-04 08:51:58.197  37892.24\n",
      "    symbol                    Time     Price\n",
      "0  BTCUSDT 2022-02-04 08:51:58.251  37892.24\n",
      "    symbol                    Time     Price\n",
      "0  BTCUSDT 2022-02-04 08:51:58.310  37892.24\n",
      "    symbol                    Time     Price\n",
      "0  BTCUSDT 2022-02-04 08:51:58.418  37892.24\n",
      "    symbol                    Time    Price\n",
      "0  BTCUSDT 2022-02-04 08:51:59.673  37897.1\n",
      "    symbol                    Time     Price\n",
      "0  BTCUSDT 2022-02-04 08:51:59.956  37893.18\n",
      "    symbol                    Time     Price\n",
      "0  BTCUSDT 2022-02-04 08:51:59.973  37893.17\n",
      "    symbol                    Time     Price\n",
      "0  BTCUSDT 2022-02-04 08:51:59.973  37893.18\n",
      "    symbol                    Time     Price\n",
      "0  BTCUSDT 2022-02-04 08:51:59.975  37893.18\n",
      "    symbol                    Time     Price\n",
      "0  BTCUSDT 2022-02-04 08:51:59.978  37893.18\n",
      "    symbol                    Time     Price\n",
      "0  BTCUSDT 2022-02-04 08:51:59.984  37893.18\n",
      "    symbol                    Time     Price\n",
      "0  BTCUSDT 2022-02-04 08:51:59.985  37893.18\n",
      "    symbol                    Time     Price\n",
      "0  BTCUSDT 2022-02-04 08:51:59.985  37893.18\n",
      "    symbol                    Time     Price\n",
      "0  BTCUSDT 2022-02-04 08:51:59.986  37893.18\n",
      "    symbol                    Time     Price\n",
      "0  BTCUSDT 2022-02-04 08:51:59.987  37893.18\n",
      "    symbol                    Time     Price\n",
      "0  BTCUSDT 2022-02-04 08:51:59.987  37893.18\n",
      "    symbol                    Time     Price\n",
      "0  BTCUSDT 2022-02-04 08:51:59.992  37893.18\n",
      "    symbol                    Time     Price\n",
      "0  BTCUSDT 2022-02-04 08:51:59.992  37893.17\n",
      "    symbol                    Time     Price\n",
      "0  BTCUSDT 2022-02-04 08:51:59.994  37893.17\n",
      "    symbol                    Time     Price\n",
      "0  BTCUSDT 2022-02-04 08:51:59.995  37893.17\n",
      "    symbol                    Time     Price\n",
      "0  BTCUSDT 2022-02-04 08:51:59.995  37893.17\n",
      "    symbol                    Time     Price\n",
      "0  BTCUSDT 2022-02-04 08:51:59.995  37893.17\n",
      "    symbol                    Time     Price\n",
      "0  BTCUSDT 2022-02-04 08:51:59.997  37893.18\n",
      "    symbol                    Time     Price\n",
      "0  BTCUSDT 2022-02-04 08:51:59.997  37894.82\n",
      "    symbol                    Time     Price\n",
      "0  BTCUSDT 2022-02-04 08:51:59.997  37894.82\n",
      "    symbol                    Time     Price\n",
      "0  BTCUSDT 2022-02-04 08:51:59.998  37893.17\n",
      "    symbol                    Time     Price\n",
      "0  BTCUSDT 2022-02-04 08:51:59.998  37893.17\n",
      "    symbol                    Time     Price\n",
      "0  BTCUSDT 2022-02-04 08:51:59.999  37893.17\n",
      "    symbol                Time     Price\n",
      "0  BTCUSDT 2022-02-04 08:52:00  37893.17\n",
      "    symbol                    Time     Price\n",
      "0  BTCUSDT 2022-02-04 08:52:00.001  37893.17\n",
      "    symbol                    Time     Price\n",
      "0  BTCUSDT 2022-02-04 08:52:00.001  37894.82\n",
      "    symbol                    Time     Price\n",
      "0  BTCUSDT 2022-02-04 08:52:00.001  37893.18\n",
      "    symbol                    Time     Price\n",
      "0  BTCUSDT 2022-02-04 08:52:00.001  37893.18\n",
      "    symbol                    Time     Price\n",
      "0  BTCUSDT 2022-02-04 08:52:00.001  37893.18\n",
      "    symbol                    Time     Price\n",
      "0  BTCUSDT 2022-02-04 08:52:00.002  37894.82\n",
      "    symbol                    Time     Price\n",
      "0  BTCUSDT 2022-02-04 08:52:00.002  37893.18\n"
     ]
    }
   ],
   "source": [
    "while True:\n",
    "    await socket.__aenter__()\n",
    "    msg = await socket.recv()\n",
    "    frame = createframe(msg)\n",
    "    frame.to_sql('BTCUSDT', engine, if_existsInvalid SQLite URL:Invalid SQLite URL:Invalid SQLite URL:='append', index=False)\n",
    "    print(frame)"
   ]
  },
  {
   "cell_type": "code",
   "execution_count": 17,
   "id": "be7af28d",
   "metadata": {},
   "outputs": [],
   "source": [
    "def createframe(msg):\n",
    "    df = pd.DataFrame([msg])\n",
    "    df = df.loc[:,['s','E','p']]\n",
    "    df.columns = ['symbol','Time','Price']\n",
    "    df.Price = df.Price.astype(float)\n",
    "    df.Time = pd.to_datetime(df.Time , unit='ms')\n",
    "    return df"
   ]
  },
  {
   "cell_type": "code",
   "execution_count": 18,
   "id": "d2fad458",
   "metadata": {},
   "outputs": [
    {
     "data": {
      "text/html": [
       "<div>\n",
       "<style scoped>\n",
       "    .dataframe tbody tr th:only-of-type {\n",
       "        vertical-align: middle;\n",
       "    }\n",
       "\n",
       "    .dataframe tbody tr th {\n",
       "        vertical-align: top;\n",
       "    }\n",
       "\n",
       "    .dataframe thead th {\n",
       "        text-align: right;\n",
       "    }\n",
       "</style>\n",
       "<table border=\"1\" class=\"dataframe\">\n",
       "  <thead>\n",
       "    <tr style=\"text-align: right;\">\n",
       "      <th></th>\n",
       "      <th>symbol</th>\n",
       "      <th>Time</th>\n",
       "      <th>Price</th>\n",
       "    </tr>\n",
       "  </thead>\n",
       "  <tbody>\n",
       "    <tr>\n",
       "      <th>0</th>\n",
       "      <td>BTCUSDT</td>\n",
       "      <td>2022-02-04 08:51:50.908</td>\n",
       "      <td>37891.81</td>\n",
       "    </tr>\n",
       "  </tbody>\n",
       "</table>\n",
       "</div>"
      ],
      "text/plain": [
       "    symbol                    Time     Price\n",
       "0  BTCUSDT 2022-02-04 08:51:50.908  37891.81"
      ]
     },
     "execution_count": 18,
     "metadata": {},
     "output_type": "execute_result"
    }
   ],
   "source": [
    "createframe(msg)"
   ]
  },
  {
   "cell_type": "code",
   "execution_count": 20,
   "id": "822abd3a",
   "metadata": {},
   "outputs": [],
   "source": [
    "engine = sqlalchemy.create_engine('sqlite:///BTCUSDTstream.db')"
   ]
  }
 ],
 "metadata": {
  "kernelspec": {
   "display_name": "Python 3 (ipykernel)",
   "language": "python",
   "name": "python3"
  },
  "language_info": {
   "codemirror_mode": {
    "name": "ipython",
    "version": 3
   },
   "file_extension": ".py",
   "mimetype": "text/x-python",
   "name": "python",
   "nbconvert_exporter": "python",
   "pygments_lexer": "ipython3",
   "version": "3.8.10"
  }
 },
 "nbformat": 4,
 "nbformat_minor": 5
}
