{
 "cells": [
  {
   "cell_type": "code",
   "execution_count": 10,
   "id": "643dd4ad-d53a-460a-8385-98a114d001b1",
   "metadata": {},
   "outputs": [],
   "source": [
    "# Function for printing to files\n",
    "def print_file(ls, file):\n",
    "    with open(f'output/{file}.txt','w') as file:\n",
    "        file.write(str(ls)[1:-1].replace(' ','').replace('\\'',''))\n",
    "        \n",
    "def get_price(ls):\n",
    "    return ((float(ls[1]) + float(ls[4])) / 2)\n",
    "\n",
    "# Function for getting percent change\n",
    "def get_percent_change(ls_1, ls_2):\n",
    "    change = (get_price(ls_2) - get_price(ls_1)) / get_price(ls_1) * 100\n",
    "    return float(\"{:.4f}\".format(change))\n",
    "\n",
    "# Function for flitering symbols\n",
    "def filter_symbol(list_of_symbols):\n",
    "    # print(f\"{len(list_of_symbols)} symbols in 24hrs list\")\n",
    "    selected_symbols = []\n",
    "    calls=0\n",
    "    for symbol in list_of_symbols:\n",
    "        while True:\n",
    "            try:\n",
    "                now_time = datetime.now()\n",
    "                prev_time = now_time - timedelta(hours=12)\n",
    "                klines = client.get_historical_klines(symbol, Client.KLINE_INTERVAL_1MINUTE, str(prev_time), str(now_time))\n",
    "\n",
    "                _6hrs, _1hr, _30mins = get_percent_change(klines[0], klines[-1]), get_percent_change(klines[299], klines[-1]), get_percent_change(klines[329], klines[-1])\n",
    "\n",
    "                if (_6hrs > 6) & (_1hr > 3) & (_30mins > 1):\n",
    "                    selected_symbols.append(symbol)\n",
    "                    # print(f\"{symbol}->\\t6hrs: {_6hrs:.2f}%\\t1hr: {_1hr:.2f}%\\t30min: {_30mins:.2f}%\")\n",
    "                calls+=1\n",
    "                break\n",
    "                \n",
    "            except (requests.exceptions.ReadTimeout, requests.exceptions.ConnectionError) as e:\n",
    "                print(e)\n",
    "                time.sleep(5)\n",
    "                pass\n",
    "    # print(f\"{calls} API calls made\")\n",
    "    print_file(selected_symbols,'filtered')\n",
    "    \n",
    "    if(len(selected_symbols)>0):\n",
    "        print_file(selected_symbols,'selected_symbols')"
   ]
  },
  {
   "cell_type": "markdown",
   "id": "32032106-38c8-42d3-9773-496e13f3a113",
   "metadata": {
    "tags": []
   },
   "source": [
    "### Import Libraries & Load Environment Variables"
   ]
  },
  {
   "cell_type": "code",
   "execution_count": 2,
   "id": "627e2100",
   "metadata": {},
   "outputs": [],
   "source": [
    "import time\n",
    "import requests\n",
    "import pandas as pd\n",
    "import sqlalchemy, os\n",
    "from binance import BinanceSocketManager\n",
    "from binance.client import Client\n",
    "from datetime import datetime, timedelta\n",
    "from dotenv import load_dotenv\n",
    "\n",
    "load_dotenv()\n",
    "\n",
    "API_KEY = os.environ.get(\"API_KEY\")\n",
    "API_SECRET = os.environ.get(\"API_SECRET\")\n",
    "\n",
    "# Binance Client\n",
    "client = Client(API_KEY, API_SECRET)\n",
    "\n",
    "# list_symbols_USDT = [item[\"symbol\"] for item in client.get_exchange_info()[\"symbols\"] if (\"USDT\" in item[\"symbol\"]) & (\"DOWN\" not in item[\"symbol\"])] # CALL\n",
    "# print_file(list_symbols_USDT,'pairs')\n",
    "with open('output/pairs.txt','r') as file:\n",
    "    list_of_symbols = file.readline().split(',')"
   ]
  },
  {
   "cell_type": "markdown",
   "id": "48c9deea-154d-43c5-9aad-58bd6c0bfa09",
   "metadata": {},
   "source": [
    "### Main Code"
   ]
  },
  {
   "cell_type": "code",
   "execution_count": 14,
   "id": "25d0e245-852c-432f-9feb-b4f48bcab093",
   "metadata": {
    "scrolled": true,
    "tags": []
   },
   "outputs": [
    {
     "name": "stdout",
     "output_type": "stream",
     "text": [
      "Average: 4.994483662500001\n",
      "799.1173860000002\n",
      "160\n",
      "KeyboardInterrupt occured\n"
     ]
    }
   ],
   "source": [
    "def start():\n",
    "    while True:\n",
    "        try:\n",
    "            _24hrs = [item for item in [item['symbol'] for item in client.get_ticker() if float(item['priceChangePercent'])>10.0] if (item in list_of_symbols)] # CALL\n",
    "            break\n",
    "        except (requests.exceptions.ReadTimeout, requests.exceptions.ConnectionError) as e:\n",
    "            print(e)\n",
    "            pass\n",
    "    \n",
    "    if(len(_24hrs)>0):\n",
    "        filter_symbol(_24hrs)\n",
    "        \n",
    "mn = 3.532734\n",
    "total_time = 584.980975\n",
    "num = 117\n",
    "try:\n",
    "    while(True):\n",
    "        start_time = datetime.utcnow()\n",
    "        start()\n",
    "        # time.sleep(5)\n",
    "        end_time = datetime.utcnow()\n",
    "        x = float(str(end_time - start_time)[5:])\n",
    "        total_time += x\n",
    "        num +=1\n",
    "        if(x<mn):\n",
    "            print(f\"\\t\\t{x}\")\n",
    "            mn=x\n",
    "except KeyboardInterrupt:\n",
    "    print(f\"Average: {float(total_time/num)}\\n{total_time}\\n{num}\")\n",
    "    print(\"KeyboardInterrupt occured\")"
   ]
  }
 ],
 "metadata": {
  "kernelspec": {
   "display_name": "Python 3 (ipykernel)",
   "language": "python",
   "name": "python3"
  },
  "language_info": {
   "codemirror_mode": {
    "name": "ipython",
    "version": 3
   },
   "file_extension": ".py",
   "mimetype": "text/x-python",
   "name": "python",
   "nbconvert_exporter": "python",
   "pygments_lexer": "ipython3",
   "version": "3.8.10"
  }
 },
 "nbformat": 4,
 "nbformat_minor": 5
}
