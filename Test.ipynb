{
 "cells": [
  {
   "cell_type": "code",
   "execution_count": null,
   "id": "b6a137f8-bdb6-4956-8c37-eac26f135e3c",
   "metadata": {},
   "outputs": [],
   "source": [
    "import pandas as pd\n",
    "import sqlalchemy, os\n",
    "from binance import BinanceSocketManager\n",
    "from binance.client import Client\n",
    "from dotenv import load_dotenv\n",
    "from datetime import datetime, timedelta\n",
    "\n",
    "load_dotenv()\n",
    "\n",
    "API_KEY = os.environ.get(\"API_KEY\")\n",
    "API_SECRET = os.environ.get(\"API_SECRET\")\n",
    "\n",
    "client = Client(API_KEY, API_SECRET)"
   ]
  },
  {
   "cell_type": "code",
   "execution_count": null,
   "id": "e31e217c-66c3-4940-a302-b1885d46ad08",
   "metadata": {},
   "outputs": [],
   "source": [
    "import sqlite3\n",
    "\n",
    "db = sqlite3.connect('crypto.db')\n",
    "\n",
    "cursor = db.cursor()\n",
    "\n",
    "cursor.execute(\"\"\"\n",
    "    CREATE TABLE test (\n",
    "        symbol TEXT,\n",
    "        avg_price REAL,\n",
    "        buy_time REAL\n",
    "    )\"\"\")\n",
    "db.commit()\n",
    "db.close()"
   ]
  },
  {
   "cell_type": "code",
   "execution_count": null,
   "id": "228745ec-d569-4b9c-9cae-a5b9e9a6c210",
   "metadata": {},
   "outputs": [],
   "source": [
    "def execute(command):\n",
    "    db = sqlite3.connect('crypto.db')\n",
    "    cursor = db.cursor()\n",
    "    cursor.execute(command)\n",
    "    db.commit()\n",
    "    db.close()\n",
    "def add_to_db(symbol, price, time):\n",
    "    execute(f\"INSERT INTO test VALUES ('{symbol}',{price},'{time}')\")\n",
    "def extract_from_tuple(alldata, i = 0):\n",
    "    symbols = [x[i] for x in alldata]\n",
    "    return symbols\n",
    "def get_data(symbol):\n",
    "    db = sqlite3.connect('crypto.db')\n",
    "    cursor = db.cursor()\n",
    "    cursor.execute(f\"SELECT * FROM test WHERE symbol = '{symbol}'\")\n",
    "    data = cursor.fetchone()\n",
    "    db.commit()\n",
    "    db.close()\n",
    "    return data\n",
    "def delete_from_db(symbol):\n",
    "    execute(f\"DELETE FROM inventory WHERE symbol = '{symbol}'\")\n",
    "def fetchall(selection='*'):\n",
    "    db = sqlite3.connect('crypto.db')\n",
    "    cursor = db.cursor()\n",
    "    cursor.execute(f\"SELECT {selection} FROM test\")\n",
    "    alldata = cursor.fetchall()\n",
    "    # print(alldata)\n",
    "    db.commit()\n",
    "    db.close()\n",
    "    return alldata\n",
    "def extract_from_tuple(alldata, i = 0):\n",
    "    symbols = [x[i] for x in alldata]\n",
    "    return symbols"
   ]
  },
  {
   "cell_type": "code",
   "execution_count": null,
   "id": "9ea76f80-51de-4670-b278-c3f637a33618",
   "metadata": {},
   "outputs": [],
   "source": [
    "# date_1 = datetime.utcnow().strftime('%y %m %d %H:%M:%S.%f')\n",
    "# date_2 = datetime.utcnow().strftime('%d%H%M%S%f')\n",
    "date_1 = datetime.utcnow().strftime('%y %m %d %H:%M:%S')\n",
    "date_2 = datetime.utcnow().strftime('%d%H%M%S')\n",
    "print(date_1)\n",
    "print(int(date_2))"
   ]
  }
 ],
 "metadata": {
  "kernelspec": {
   "display_name": "Python 3 (ipykernel)",
   "language": "python",
   "name": "python3"
  },
  "language_info": {
   "codemirror_mode": {
    "name": "ipython",
    "version": 3
   },
   "file_extension": ".py",
   "mimetype": "text/x-python",
   "name": "python",
   "nbconvert_exporter": "python",
   "pygments_lexer": "ipython3",
   "version": "3.8.10"
  }
 },
 "nbformat": 4,
 "nbformat_minor": 5
}
