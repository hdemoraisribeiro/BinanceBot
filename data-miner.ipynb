{
 "cells": [
  {
   "cell_type": "code",
   "execution_count": 1,
   "id": "84ea4676",
   "metadata": {},
   "outputs": [],
   "source": [
    "import time\n",
    "import requests\n",
    "import pandas as pd\n",
    "import sqlalchemy, os\n",
    "from binance import BinanceSocketManager\n",
    "from binance.client import Client\n",
    "from datetime import datetime, timedelta\n",
    "from dotenv import load_dotenv\n",
    "\n",
    "load_dotenv()\n",
    "\n",
    "API_KEY = os.environ.get(\"API_KEY\")\n",
    "API_SECRET = os.environ.get(\"API_SECRET\")\n",
    "\n",
    "client = Client(API_KEY, API_SECRET)"
   ]
  },
  {
   "cell_type": "code",
   "execution_count": 2,
   "id": "50e637a8",
   "metadata": {},
   "outputs": [
    {
     "name": "stdout",
     "output_type": "stream",
     "text": [
      "2022-10-03 15:50:23.911321 2021-10-04 15:50:23.911434\n"
     ]
    }
   ],
   "source": [
    "now_time = datetime.now()\n",
    "prev_time = datetime.now() - timedelta(weeks=52)\n",
    "print(now_time, prev_time)"
   ]
  },
  {
   "cell_type": "code",
   "execution_count": 4,
   "id": "006476e5",
   "metadata": {},
   "outputs": [
    {
     "data": {
      "text/plain": [
       "345"
      ]
     },
     "execution_count": 4,
     "metadata": {},
     "output_type": "execute_result"
    }
   ],
   "source": [
    "with open('output/pairs.txt','r') as file:\n",
    "    list_of_symbols = file.readline().split(',')\n",
    "\n",
    "len(list_of_symbols)"
   ]
  },
  {
   "cell_type": "code",
   "execution_count": null,
   "id": "58cfebb6",
   "metadata": {
    "scrolled": true
   },
   "outputs": [],
   "source": [
    "count = len(list_of_symbols)\n",
    "dash = \"----\"\n",
    "for symbol in list_of_symbols:\n",
    "    klines = client.get_historical_klines(symbol, Client.KLINE_INTERVAL_1MINUTE, str(prev_time), str(now_time))\n",
    "    df = pd.DataFrame(klines)\n",
    "    df.columns = [\"Open Time\", \"Open\", 'High', 'Low', 'Close', 'Volume', 'Close Time', 'Quote asset volume', 'Number of trades', 'Taker buy base asset volume','Taker buy quote asset volume','Ignore']\n",
    "    df['Open Time'] = pd.to_datetime(df['Open Time']/1000, unit='s').dt.strftime('%Y-%m-%d %H:%M:%S')\n",
    "    df['Close Time'] = pd.to_datetime(df['Close Time']/1000, unit='s').dt.strftime('%Y-%m-%d %H:%M:%S')\n",
    "    count -=1\n",
    "    print(f\"last done : {symbol}... remaining files {count}\")\n",
    "    df.to_csv(path_or_buf= symbol+\".csv\" )\n",
    "    dash += \"-\"\n",
    "    print(dash + \" \" + str(round(number=((len(list_of_symbols)-count)/len(list_of_symbols)),ndigits=2)*100) +\"%\")\n",
    "    print(datetime.now())"
   ]
  },
  {
   "cell_type": "code",
   "execution_count": 5,
   "id": "25ccd592-e498-4235-aeb3-3fe55d53ff55",
   "metadata": {},
   "outputs": [
    {
     "name": "stdout",
     "output_type": "stream",
     "text": [
      "Checkpoint 1\n",
      "Checkpoint 2\n",
      "Checkpoint 3\n",
      "last done : BTCUSDT... remaining files 344\n",
      "Checkpoint 4\n",
      "----- 0.0%\n",
      "2022-10-03 15:56:41.217068\n"
     ]
    }
   ],
   "source": [
    "count = len(list_of_symbols)\n",
    "dash = \"----\"\n",
    "symbol='BTCUSDT'\n",
    "print(\"Checkpoint 1\")\n",
    "klines = client.get_historical_klines(symbol, Client.KLINE_INTERVAL_1MINUTE, str(prev_time), str(now_time))\n",
    "print(\"Checkpoint 2\")\n",
    "df = pd.DataFrame(klines)\n",
    "print(\"Checkpoint 3\")\n",
    "df.columns = [\"Open Time\", \"Open\", 'High', 'Low', 'Close', 'Volume', 'Close Time', 'Quote asset volume', 'Number of trades', 'Taker buy base asset volume','Taker buy quote asset volume','Ignore']\n",
    "df['Open Time'] = pd.to_datetime(df['Open Time']/1000, unit='s').dt.strftime('%Y-%m-%d %H:%M:%S')\n",
    "df['Close Time'] = pd.to_datetime(df['Close Time']/1000, unit='s').dt.strftime('%Y-%m-%d %H:%M:%S')\n",
    "count -=1\n",
    "print(f\"last done : {symbol}... remaining files {count}\")\n",
    "df.to_csv(path_or_buf= symbol+\"_1.csv\" )\n",
    "print(\"Checkpoint 4\")\n",
    "dash += \"-\"\n",
    "print(dash + \" \" + str(round(number=((len(list_of_symbols)-count)/len(list_of_symbols)),ndigits=2)*100) +\"%\")\n",
    "print(datetime.now())"
   ]
  }
 ],
 "metadata": {
  "kernelspec": {
   "display_name": "Python 3 (ipykernel)",
   "language": "python",
   "name": "python3"
  },
  "language_info": {
   "codemirror_mode": {
    "name": "ipython",
    "version": 3
   },
   "file_extension": ".py",
   "mimetype": "text/x-python",
   "name": "python",
   "nbconvert_exporter": "python",
   "pygments_lexer": "ipython3",
   "version": "3.8.10"
  },
  "vscode": {
   "interpreter": {
    "hash": "ad758db929b9c0bb6c2cd65921cc45a1885da056bb45ab72690e380f6ee68e10"
   }
  }
 },
 "nbformat": 4,
 "nbformat_minor": 5
}
