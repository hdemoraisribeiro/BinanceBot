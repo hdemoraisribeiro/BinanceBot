{
 "cells": [
  {
   "cell_type": "code",
   "execution_count": null,
   "id": "b6a137f8-bdb6-4956-8c37-eac26f135e3c",
   "metadata": {},
   "outputs": [],
   "source": [
    "import pandas as pd\n",
    "import sqlalchemy, os\n",
    "from binance import BinanceSocketManager\n",
    "from binance.client import Client\n",
    "from dotenv import load_dotenv\n",
    "\n",
    "load_dotenv()\n",
    "\n",
    "API_KEY = os.environ.get(\"API_KEY\")\n",
    "API_SECRET = os.environ.get(\"API_SECRET\")\n",
    "\n",
    "client = Client(API_KEY, API_SECRET)"
   ]
  },
  {
   "cell_type": "code",
   "execution_count": null,
   "id": "f921a89a-84e8-4799-992f-76b03ef6f262",
   "metadata": {},
   "outputs": [],
   "source": [
    "# fetch 1 minute klines for the last day up until now\n",
    "klines = client.get_historical_klines(\n",
    "    \"BNBBTC\", Client.KLINE_INTERVAL_1MINUTE, \"1 day ago UTC\"\n",
    ")\n",
    "\n",
    "# fetch 30 minute klines for the last month of 2017\n",
    "klines = client.get_historical_klines(\n",
    "    \"ETHBTC\", Client.KLINE_INTERVAL_30MINUTE, \"1 Dec, 2017\", \"1 Jan, 2018\"\n",
    ")\n",
    "\n",
    "# fetch weekly klines since it listed\n",
    "klines = client.get_historical_klines(\n",
    "    \"NEOBTC\", Client.KLINE_INTERVAL_1WEEK, \"1 Jan, 2017\"\n",
    ")\n",
    "\n",
    "# [\n",
    "#     1499040000000,      // 0 Open time\n",
    "#     \"0.01634790\",       // 1 Open\n",
    "#     \"0.80000000\",       // 2 High\n",
    "#     \"0.01575800\",       // 3 Low\n",
    "#     \"0.01577100\",       // 4 Close\n",
    "#     \"148976.11427815\",  // 5 Volume\n",
    "#     1499644799999,      // 6 Close time\n",
    "#     \"2434.19055334\",    // 7 Quote asset volume\n",
    "#     308,                // 8 Number of trades\n",
    "#     \"1756.87402397\",    // 9 Taker buy base asset volume\n",
    "#     \"28.46694368\",      // 10 Taker buy quote asset volume\n",
    "#     \"17928899.62484339\" // 11 Ignore.\n",
    "# ]"
   ]
  },
  {
   "cell_type": "code",
   "execution_count": null,
   "id": "cbf54d87-5eb8-4cfe-ba68-cb5808ba6839",
   "metadata": {},
   "outputs": [],
   "source": [
    "# The following code was in code cell no 2\n",
    "# Creating Socket Manager\n",
    "bsm = BinanceSocketManager(client)\n",
    "\n",
    "# Creating a socket for BTC-USDT pair\n",
    "# socket = bsm.trade_socket('BTCUSDT')\n",
    "socket = bsm.trade_socket(PAIR)\n",
    "\n",
    "# SQLite EngineSQLite Engine\n",
    "engine = sqlalchemy.create_engine(\"sqlite:///SLPUSDTstream.db\")"
   ]
  },
  {
   "cell_type": "markdown",
   "id": "42b762ec-12d4-4c4a-9c63-bce3ea11de4d",
   "metadata": {},
   "source": [
    "### Function for creating dataframe"
   ]
  },
  {
   "cell_type": "code",
   "execution_count": null,
   "id": "3d1e0ec6-655e-46ef-85a2-87b4424eee6f",
   "metadata": {},
   "outputs": [],
   "source": [
    "def createframe(msg):\n",
    "    df = pd.DataFrame([msg])\n",
    "    df = df.loc[:, [\"s\", \"E\", \"p\"]]\n",
    "    df.columns = [\"symbol\", \"Time\", \"Price\"]\n",
    "    df.Price = df.Price.astype(float)\n",
    "    df.Time = pd.to_datetime(df.Time, unit=\"ms\")\n",
    "    return df"
   ]
  },
  {
   "cell_type": "code",
   "execution_count": null,
   "id": "8871461c-cbe5-44fb-a069-97b1b047904a",
   "metadata": {},
   "outputs": [],
   "source": [
    "while True:\n",
    "    await socket.__aenter__()\n",
    "    msg = await socket.recv()\n",
    "    while msg[\"e\"] == \"error\":\n",
    "        msg = await socket.recv()\n",
    "    frame = createframe(msg)\n",
    "    frame.to_sql(\"SLPUSDT\", engine, if_exists=\"append\", index=False)\n",
    "    print(frame)"
   ]
  },
  {
   "cell_type": "code",
   "execution_count": null,
   "id": "d5bd355e-d35e-4ad0-98a5-999c72184e52",
   "metadata": {},
   "outputs": [],
   "source": [
    "msg = await socket.recv()\n",
    "if msg[\"e\"]:\n",
    "    print(msg[\"e\"])\n",
    "print(msg)"
   ]
  },
  {
   "cell_type": "code",
   "execution_count": null,
   "id": "84e023f0-c3d6-44ef-a5d2-5316d175c9d3",
   "metadata": {},
   "outputs": [],
   "source": [
    "info = client.get_all_tickers()"
   ]
  },
  {
   "cell_type": "code",
   "execution_count": null,
   "id": "376f0e52-af81-44ac-a10a-ed3cdcb5194b",
   "metadata": {},
   "outputs": [],
   "source": [
    "ls = {}\n",
    "for item in info:\n",
    "    ls[item['symbol']] = item['price']\n",
    "print(ls['GASBTC'])"
   ]
  },
  {
   "cell_type": "code",
   "execution_count": null,
   "id": "8e2d2a98-2de6-48a5-80d1-7c6e3a18d197",
   "metadata": {
    "scrolled": true,
    "tags": []
   },
   "outputs": [],
   "source": [
    "import os\n",
    "x = {1:'1',2:'2'}\n",
    "print(x.keys())\n",
    "clear = lambda : os.system('clear')\n",
    "clear()\n",
    "print('hello')"
   ]
  },
  {
   "cell_type": "code",
   "execution_count": null,
   "id": "90b80c76-384e-431b-b303-2c81ba138ada",
   "metadata": {},
   "outputs": [],
   "source": [
    "from urllib.request import urlopen\n",
    "url=\"https://gist.githubusercontent.com/deekayen/4148741/raw/98d35708fa344717d8eee15d11987de6c8e26d7d/1-1000.txt\""
   ]
  },
  {
   "cell_type": "code",
   "execution_count": null,
   "id": "928657cc-bf14-4417-9a9b-46590700f5a9",
   "metadata": {},
   "outputs": [],
   "source": [
    "lines = [str(x)[2:-3] for x in urlopen(url).readlines()]\n",
    "print(lines)\n",
    "# for word in x:\n",
    "#     print(word)"
   ]
  },
  {
   "cell_type": "code",
   "execution_count": 9,
   "id": "d1432db9-1671-4ed2-910e-47fadd59b6e6",
   "metadata": {},
   "outputs": [
    {
     "name": "stdout",
     "output_type": "stream",
     "text": [
      "ata is a bitch and a bitch is a female dog\n",
      "ata is a bitch and a {} is a female dog\n"
     ]
    }
   ],
   "source": [
    "x = '{} is a bitch and a {} is a female dog'\n",
    "\n",
    "def function(s, a = {}, b={}):\n",
    "    return s.format(a,b)\n",
    "\n",
    "x3 = function(x, a = 'ata')\n",
    "s = x.format('ata','bitch')\n",
    "print(s)\n",
    "\n",
    "print(function(x3, b = 'bitch'))"
   ]
  }
 ],
 "metadata": {
  "kernelspec": {
   "display_name": "Python 3 (ipykernel)",
   "language": "python",
   "name": "python3"
  },
  "language_info": {
   "codemirror_mode": {
    "name": "ipython",
    "version": 3
   },
   "file_extension": ".py",
   "mimetype": "text/x-python",
   "name": "python",
   "nbconvert_exporter": "python",
   "pygments_lexer": "ipython3",
   "version": "3.8.10"
  }
 },
 "nbformat": 4,
 "nbformat_minor": 5
}
