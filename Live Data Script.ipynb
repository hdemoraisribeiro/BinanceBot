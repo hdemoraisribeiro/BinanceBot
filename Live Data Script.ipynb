{
 "cells": [
  {
   "cell_type": "markdown",
   "id": "36fe774e-0645-4af9-9df9-11bb527fcb18",
   "metadata": {},
   "source": [
    "### Getting symbols (Level 1)"
   ]
  },
  {
   "cell_type": "code",
   "execution_count": 9,
   "id": "886e51ad-2542-45ed-b1d1-d84dedece6e9",
   "metadata": {},
   "outputs": [],
   "source": [
    "def get_all_pairs():\n",
    "    \n",
    "    exchange_info = client.get_exchange_info()[\"symbols\"]\n",
    "\n",
    "    # This'll contain all symbols in Binance that has USDT\n",
    "    list_symbols_USDT = []\n",
    "    symbols_USDT = \"\"\n",
    "\n",
    "    for item in exchange_info:\n",
    "        symbol = item[\"symbol\"]\n",
    "\n",
    "        if \"USDT\" in symbol:\n",
    "            symbols_USDT += symbol + \",\"\n",
    "            list_symbols_USDT.append(symbol)\n",
    "\n",
    "    symbols_USDT = symbols_USDT[:-1]\n",
    "\n",
    "    with open(\"pairs.txt\", \"w\") as file:\n",
    "        file.write(symbols_USDT)\n",
    "    \n",
    "    return list_symbols_USDT"
   ]
  },
  {
   "cell_type": "markdown",
   "id": "14c824dd-4b2b-4d1b-9140-f3ffde7014cf",
   "metadata": {},
   "source": [
    "### Filter - percent change in 24hrs"
   ]
  },
  {
   "cell_type": "code",
   "execution_count": 10,
   "id": "c84bb80c-1dc1-4f61-a0a8-6c966f7b4f07",
   "metadata": {
    "scrolled": true,
    "tags": []
   },
   "outputs": [],
   "source": [
    "def filter1(symbols):\n",
    "    \n",
    "    info = client.get_ticker()\n",
    "    \n",
    "    all_change_pair = {} # All symbols paired with corresponding 24hrs change percentile\n",
    "    USDT_change_pair = {} # All symbols with USDT paired with corresponding 24hrs change percentile\n",
    "    level1 = [] # List of symbols with more than x% change within 24hrs\n",
    "\n",
    "    for item in info:\n",
    "        all_change_pair[item[\"symbol\"]] = float(item[\"priceChangePercent\"])\n",
    "\n",
    "    for item in all_change_pair:\n",
    "        if item in symbols:\n",
    "            USDT_change_pair[item] = all_change_pair[item]\n",
    "\n",
    "    # Sort by 24hrs change percentage\n",
    "    sorted_USDT_change_pair = {\n",
    "        pair[0]: pair[1]\n",
    "        for pair in sorted(USDT_change_pair.items(), key=lambda x: x[1], reverse=True)\n",
    "    }\n",
    "\n",
    "    for item in sorted_USDT_change_pair.items():\n",
    "        \n",
    "        if item[1] > 10.0:\n",
    "            level1.append(item[0])\n",
    "            print(item[0],item[1])\n",
    "\n",
    "    with open(\"pairs_level_1.txt\", \"w\") as file:\n",
    "        file.write(str(level1)[1:-1])\n",
    "\n",
    "    # level1 contains the list of symbols that pass the first criteria\n",
    "    return level1"
   ]
  },
  {
   "cell_type": "code",
   "execution_count": 19,
   "id": "643dd4ad-d53a-460a-8385-98a114d001b1",
   "metadata": {},
   "outputs": [],
   "source": [
    "# Function for getting price\n",
    "def get_price(ls):\n",
    "    avg = (float(ls[1]) + float(ls[4])) / 2\n",
    "    price = float(\"{:.4f}\".format(avg))\n",
    "    return price\n",
    "\n",
    "\n",
    "# Function for getting percent change in 6 hour\n",
    "def get_percent_change(ls_1, ls_2):\n",
    "    price_1 = get_price(ls_1)\n",
    "    price_2 = get_price(ls_2)\n",
    "\n",
    "    change = (price_2 - price_1) / price_1\n",
    "\n",
    "    change_in_percent = float(\"{:.4f}\".format(change * 100))\n",
    "\n",
    "    return change_in_percent\n",
    "\n",
    "# Function for flitering symbols using threshold\n",
    "def filter_symbol(level, list_of_symbols, threshold, window):\n",
    "    from datetime import datetime, timedelta\n",
    "\n",
    "    selected_symbols = []\n",
    "\n",
    "    for symbol in list_of_symbols:\n",
    "\n",
    "        klines = client.get_historical_klines(\n",
    "            symbol,\n",
    "            Client.KLINE_INTERVAL_1MINUTE,\n",
    "            str(datetime.now() - timedelta(hours=window)),\n",
    "            str(datetime.now()),\n",
    "        )\n",
    "\n",
    "        percent_change = get_percent_change(klines[0], klines[-1])\n",
    "\n",
    "        if percent_change > threshold:\n",
    "            selected_symbols.append(symbol)\n",
    "            print(symbol, percent_change)\n",
    "            \n",
    "    with open(\"pairs_level_\"+str(level)+\".txt\", \"w\") as file:\n",
    "        file.write(str(selected_symbols)[1:-1])\n",
    "        \n",
    "    return selected_symbols"
   ]
  },
  {
   "cell_type": "markdown",
   "id": "32032106-38c8-42d3-9773-496e13f3a113",
   "metadata": {
    "tags": []
   },
   "source": [
    "### Import Libraries"
   ]
  },
  {
   "cell_type": "code",
   "execution_count": 13,
   "id": "627e2100",
   "metadata": {},
   "outputs": [
    {
     "data": {
      "text/plain": [
       "True"
      ]
     },
     "execution_count": 13,
     "metadata": {},
     "output_type": "execute_result"
    }
   ],
   "source": [
    "import pandas as pd\n",
    "import sqlalchemy, os\n",
    "from binance import BinanceSocketManager\n",
    "from binance.client import Client\n",
    "from dotenv import load_dotenv\n",
    "\n",
    "load_dotenv()"
   ]
  },
  {
   "cell_type": "markdown",
   "id": "89e4114d-48dc-4676-be46-4c8f2a870d91",
   "metadata": {},
   "source": [
    "### Environment variables"
   ]
  },
  {
   "cell_type": "code",
   "execution_count": 14,
   "id": "35e3dfe0",
   "metadata": {},
   "outputs": [],
   "source": [
    "API_KEY = os.environ.get(\"API_KEY\")\n",
    "API_SECRET = os.environ.get(\"API_SECRET\")\n",
    "\n",
    "# Binance Client\n",
    "client = Client(API_KEY, API_SECRET)"
   ]
  },
  {
   "cell_type": "markdown",
   "id": "48c9deea-154d-43c5-9aad-58bd6c0bfa09",
   "metadata": {},
   "source": [
    "### Main Code"
   ]
  },
  {
   "cell_type": "code",
   "execution_count": 20,
   "id": "25d0e245-852c-432f-9feb-b4f48bcab093",
   "metadata": {},
   "outputs": [
    {
     "name": "stdout",
     "output_type": "stream",
     "text": [
      "Level 1 - 24hrs window\n",
      "APEUSDT 24.887\n",
      "FIOUSDT 22.186\n",
      "JASMYUSDT 16.204\n",
      "LINAUSDT 14.817\n",
      "MDXUSDT 13.636\n",
      "ZILUSDT 13.546\n",
      "MDTUSDT 13.494\n",
      "AGLDUSDT 12.759\n",
      "ORNUSDT 10.759\n",
      "BICOUSDT 10.452\n",
      "PERPUSDT 10.269\n",
      "\n",
      "Level 2 - 6hrs window\n",
      "FIOUSDT 11.3281\n",
      "MDXUSDT 7.7586\n",
      "AGLDUSDT 7.8125\n",
      "ORNUSDT 6.9713\n",
      "BICOUSDT 8.167\n",
      "\n",
      "Level 3 - 1hrs window\n",
      "MDXUSDT 5.042\n",
      "AGLDUSDT 3.8928\n"
     ]
    }
   ],
   "source": [
    "list_symbols_USDT = get_all_pairs()\n",
    "print(\"Level 1 - 24hrs window\")\n",
    "level1 = filter1(list_symbols_USDT)\n",
    "print(\"\\nLevel 2 - 6hrs window\")\n",
    "level2 = filter_symbol(2, level1, 6, 12) #filter_symbol (level, list_of_symbols, threshold, window)\n",
    "print(\"\\nLevel 3 - 1hrs window\")\n",
    "level3 = filter_symbol(3, level2, 3, 7)"
   ]
  }
 ],
 "metadata": {
  "kernelspec": {
   "display_name": "Python 3 (ipykernel)",
   "language": "python",
   "name": "python3"
  },
  "language_info": {
   "codemirror_mode": {
    "name": "ipython",
    "version": 3
   },
   "file_extension": ".py",
   "mimetype": "text/x-python",
   "name": "python",
   "nbconvert_exporter": "python",
   "pygments_lexer": "ipython3",
   "version": "3.8.10"
  }
 },
 "nbformat": 4,
 "nbformat_minor": 5
}
