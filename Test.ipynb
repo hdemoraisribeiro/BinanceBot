{
 "cells": [
  {
   "cell_type": "code",
   "execution_count": 31,
   "id": "b6a137f8-bdb6-4956-8c37-eac26f135e3c",
   "metadata": {},
   "outputs": [],
   "source": [
    "import pandas as pd\n",
    "import sqlalchemy, os\n",
    "from binance import BinanceSocketManager\n",
    "from binance.client import Client\n",
    "from dotenv import load_dotenv\n",
    "from datetime import datetime, timedelta\n",
    "\n",
    "load_dotenv()\n",
    "\n",
    "API_KEY = os.environ.get(\"API_KEY\")\n",
    "API_SECRET = os.environ.get(\"API_SECRET\")\n",
    "\n",
    "client = Client(API_KEY, API_SECRET)"
   ]
  },
  {
   "cell_type": "code",
   "execution_count": null,
   "id": "f921a89a-84e8-4799-992f-76b03ef6f262",
   "metadata": {},
   "outputs": [],
   "source": [
    "# fetch 1 minute klines for the last day up until now\n",
    "klines = client.get_historical_klines(\n",
    "    \"BNBBTC\", Client.KLINE_INTERVAL_1MINUTE, \"1 day ago UTC\"\n",
    ")\n",
    "\n",
    "# fetch 30 minute klines for the last month of 2017\n",
    "klines = client.get_historical_klines(\n",
    "    \"ETHBTC\", Client.KLINE_INTERVAL_30MINUTE, \"1 Dec, 2017\", \"1 Jan, 2018\"\n",
    ")\n",
    "\n",
    "# fetch weekly klines since it listed\n",
    "klines = client.get_historical_klines(\n",
    "    \"NEOBTC\", Client.KLINE_INTERVAL_1WEEK, \"1 Jan, 2017\"\n",
    ")\n",
    "\n",
    "# [\n",
    "#     1499040000000,      // 0 Open time\n",
    "#     \"0.01634790\",       // 1 Open\n",
    "#     \"0.80000000\",       // 2 High\n",
    "#     \"0.01575800\",       // 3 Low\n",
    "#     \"0.01577100\",       // 4 Close\n",
    "#     \"148976.11427815\",  // 5 Volume\n",
    "#     1499644799999,      // 6 Close time\n",
    "#     \"2434.19055334\",    // 7 Quote asset volume\n",
    "#     308,                // 8 Number of trades\n",
    "#     \"1756.87402397\",    // 9 Taker buy base asset volume\n",
    "#     \"28.46694368\",      // 10 Taker buy quote asset volume\n",
    "#     \"17928899.62484339\" // 11 Ignore.\n",
    "# ]"
   ]
  },
  {
   "cell_type": "code",
   "execution_count": null,
   "id": "cbf54d87-5eb8-4cfe-ba68-cb5808ba6839",
   "metadata": {},
   "outputs": [],
   "source": [
    "# The following code was in code cell no 2\n",
    "# Creating Socket Manager\n",
    "bsm = BinanceSocketManager(client)\n",
    "\n",
    "# Creating a socket for BTC-USDT pair\n",
    "# socket = bsm.trade_socket('BTCUSDT')\n",
    "socket = bsm.trade_socket(PAIR)\n",
    "\n",
    "# SQLite EngineSQLite Engine\n",
    "engine = sqlalchemy.create_engine(\"sqlite:///SLPUSDTstream.db\")"
   ]
  },
  {
   "cell_type": "markdown",
   "id": "42b762ec-12d4-4c4a-9c63-bce3ea11de4d",
   "metadata": {},
   "source": [
    "### Function for creating dataframe"
   ]
  },
  {
   "cell_type": "code",
   "execution_count": null,
   "id": "3d1e0ec6-655e-46ef-85a2-87b4424eee6f",
   "metadata": {},
   "outputs": [],
   "source": [
    "def createframe(msg):\n",
    "    df = pd.DataFrame([msg])\n",
    "    df = df.loc[:, [\"s\", \"E\", \"p\"]]\n",
    "    df.columns = [\"symbol\", \"Time\", \"Price\"]\n",
    "    df.Price = df.Price.astype(float)\n",
    "    df.Time = pd.to_datetime(df.Time, unit=\"ms\")\n",
    "    return df"
   ]
  },
  {
   "cell_type": "code",
   "execution_count": null,
   "id": "8871461c-cbe5-44fb-a069-97b1b047904a",
   "metadata": {},
   "outputs": [],
   "source": [
    "while True:\n",
    "    await socket.__aenter__()\n",
    "    msg = await socket.recv()\n",
    "    while msg[\"e\"] == \"error\":\n",
    "        msg = await socket.recv()\n",
    "    frame = createframe(msg)\n",
    "    frame.to_sql(\"SLPUSDT\", engine, if_exists=\"append\", index=False)\n",
    "    print(frame)"
   ]
  },
  {
   "cell_type": "code",
   "execution_count": null,
   "id": "e31e217c-66c3-4940-a302-b1885d46ad08",
   "metadata": {},
   "outputs": [],
   "source": [
    "import sqlite3\n",
    "\n",
    "db = sqlite3.connect('crypto.db')\n",
    "\n",
    "cursor = db.cursor()\n",
    "\n",
    "cursor.execute(\"\"\"\n",
    "    CREATE TABLE inventory (\n",
    "        symbol TEXT,\n",
    "        avg_price REAL\n",
    "    )\"\"\")\n",
    "db.commit()\n",
    "db.close()"
   ]
  },
  {
   "cell_type": "code",
   "execution_count": null,
   "id": "6b1f9de3-69da-47b0-bf83-8dfcba0dc0fa",
   "metadata": {
    "tags": []
   },
   "outputs": [],
   "source": [
    "db = sqlite3.connect('crypto.db')\n",
    "cursor = db.cursor()\n",
    "cursor.execute(\"INSERT INTO inventory VALUES ('BTCUSDT',30000.24)\")\n",
    "db.commit()\n",
    "db.close()"
   ]
  },
  {
   "cell_type": "code",
   "execution_count": null,
   "id": "2528350b-65cf-47dc-9e90-6836b66ac452",
   "metadata": {
    "tags": []
   },
   "outputs": [],
   "source": [
    "def fetchall(selection='*'):\n",
    "    db = sqlite3.connect('crypto.db')\n",
    "    cursor = db.cursor()\n",
    "    cursor.execute(f\"SELECT {selection} FROM inventory\")\n",
    "    alldata = cursor.fetchall()\n",
    "    # print(alldata)\n",
    "    db.commit()\n",
    "    db.close()\n",
    "    return alldata"
   ]
  },
  {
   "cell_type": "code",
   "execution_count": null,
   "id": "36035d77-2a27-446f-89d1-bb829de2946c",
   "metadata": {
    "tags": []
   },
   "outputs": [],
   "source": [
    "data = [\n",
    "    ('OMUSDT', 352.53),\n",
    "    ('ENSUSDT',12.43)\n",
    "]\n",
    "db = sqlite3.connect('crypto.db')\n",
    "cursor = db.cursor()\n",
    "print(cursor.executemany(\"INSERT INTO inventory VALUES (?,?)\",data))\n",
    "db.commit()\n",
    "db.close()"
   ]
  },
  {
   "cell_type": "code",
   "execution_count": null,
   "id": "5de46319-4ca3-4fbc-b854-40f6e72dc16c",
   "metadata": {
    "tags": []
   },
   "outputs": [],
   "source": [
    "example = [item[0] for item in fetchall('avg_price')]\n",
    "print(example)"
   ]
  },
  {
   "cell_type": "code",
   "execution_count": null,
   "id": "3f7b975b-8190-47ba-8a8d-d4c88a8b21c3",
   "metadata": {
    "tags": []
   },
   "outputs": [],
   "source": [
    "i = 1\n",
    "dictionary = {}\n",
    "db = sqlite3.connect('crypto.db')\n",
    "cursor = db.cursor()\n",
    "cursor.execute(f\"SELECT * FROM inventory\")\n",
    "alldata = cursor.fetchall()\n",
    "symbols = [x[i] for x in alldata]\n",
    "print(symbols)\n",
    "for data in alldata:\n",
    "    print(data[0])\n",
    "db.commit()\n",
    "db.close()"
   ]
  },
  {
   "cell_type": "code",
   "execution_count": null,
   "id": "191d5b4f-ce82-4497-874a-8377874fb375",
   "metadata": {
    "tags": []
   },
   "outputs": [],
   "source": [
    "def fetchall():\n",
    "    db = sqlite3.connect('crypto.db')\n",
    "    cursor = db.cursor()\n",
    "    cursor.execute(\"SELECT * FROM inventory\")\n",
    "    alldata = cursor.fetchall()\n",
    "    db.commit()\n",
    "    db.close()\n",
    "    return alldata\n",
    "\n",
    "def extract_for_tuple(alldata, i = 0):\n",
    "    symbols = [x[i] for x in alldata]\n",
    "    return symbols\n",
    "\n",
    "def get_buy_price(symbol):\n",
    "    db = sqlite3.connect('crypto.db')\n",
    "    cursor = db.cursor()\n",
    "    cursor.execute(f\"SELECT avg_price FROM inventory WHERE symbol = '{symbol}'\")\n",
    "    price = cursor.fetchone()[0]\n",
    "    db.commit()\n",
    "    db.close()\n",
    "    return price\n",
    "\n",
    "print(extract_for_tuple(fetchall(),1))\n",
    "dictionary = {}\n",
    "# for price in \n",
    "print(get_buy_price('BTCUSDT'))"
   ]
  },
  {
   "cell_type": "code",
   "execution_count": null,
   "id": "b370418c-6ce8-4636-938a-146fe77aa69e",
   "metadata": {
    "tags": []
   },
   "outputs": [],
   "source": [
    "def filter_symbol(level, list_of_symbols, threshold, window):\n",
    "    from datetime import datetime, timedelta\n",
    "\n",
    "    selected_symbols = []\n",
    "\n",
    "    for symbol in list_of_symbols:\n",
    "\n",
    "        klines = client.get_historical_klines(\n",
    "            symbol,\n",
    "            Client.KLINE_INTERVAL_1MINUTE,\n",
    "            str(datetime.now() - timedelta(hours=window)),\n",
    "            str(datetime.now()),\n",
    "        )\n",
    "\n",
    "        percent_change = get_percent_change(klines[0], klines[-1])\n",
    "\n",
    "        if percent_change > threshold:\n",
    "            selected_symbols.append(symbol)\n",
    "            print(symbol, percent_change)\n",
    "            \n",
    "    with open(\"pairs_level_\"+str(level)+\".txt\", \"w\") as file:\n",
    "        file.write(str(selected_symbols)[1:-1].replace('\\'','').replace(' ',''))\n",
    "        \n",
    "    return selected_symbols\n",
    "\n",
    "import time\n",
    "import pandas as pd\n",
    "import sqlalchemy, os\n",
    "from binance import BinanceSocketManager\n",
    "from binance.client import Client\n",
    "from dotenv import load_dotenv\n",
    "from datetime import datetime, timedelta\n",
    "\n",
    "load_dotenv()\n",
    "\n",
    "API_KEY = os.environ.get(\"API_KEY\")\n",
    "API_SECRET = os.environ.get(\"API_SECRET\")\n",
    "\n",
    "# Binance Client\n",
    "client = Client(API_KEY, API_SECRET)"
   ]
  },
  {
   "cell_type": "code",
   "execution_count": null,
   "id": "44312423-2265-4404-9959-7af2a6c14a2f",
   "metadata": {},
   "outputs": [],
   "source": [
    "klines = client.get_historical_klines(\n",
    "            'BTCBUSD',\n",
    "            Client.KLINE_INTERVAL_1MINUTE,\n",
    "            str(datetime.now() - timedelta(minutes=361)),\n",
    "            str(datetime.now()),\n",
    "        )\n",
    "print(len(klines))\n",
    "for kline in klines:\n",
    "    print(kline[0],kline[6])"
   ]
  },
  {
   "cell_type": "code",
   "execution_count": null,
   "id": "c443599a-65f3-4fe1-83d4-d5db363a835d",
   "metadata": {
    "tags": []
   },
   "outputs": [],
   "source": [
    "list_symbols_USDT = [item[\"symbol\"] for item in client.get_exchange_info()[\"symbols\"] if (\"USDT\" in item[\"symbol\"]) & (\"DOWN\" not in item[\"symbol\"])]"
   ]
  },
  {
   "cell_type": "code",
   "execution_count": 22,
   "id": "de0568fe-1e3d-44d0-a3ef-a3ae2cdaa20c",
   "metadata": {},
   "outputs": [],
   "source": [
    "# Function for printing to files\n",
    "def print_file(ls, file):\n",
    "    with open(str(file)+'.txt','w') as file:\n",
    "        file.write(str(ls)[1:-1].replace(' ','').replace('\\'',''))\n",
    "        \n",
    "# Function for getting price\n",
    "def get_price(ls):\n",
    "    avg = (float(ls[1]) + float(ls[4])) / 2\n",
    "    price = float(\"{:.4f}\".format(avg))\n",
    "    return price\n",
    "\n",
    "# Function for getting percent change in 6 hour\n",
    "def get_percent_change(ls_1, ls_2):\n",
    "    price_1 = get_price(ls_1)\n",
    "    price_2 = get_price(ls_2)\n",
    "\n",
    "    change = (price_2 - price_1) / price_1\n",
    "\n",
    "    change_in_percent = float(\"{:.4f}\".format(change * 100))\n",
    "\n",
    "    return change_in_percent"
   ]
  },
  {
   "cell_type": "code",
   "execution_count": 15,
   "id": "b533605e-a7af-44dc-baf8-2105efbc2bdc",
   "metadata": {},
   "outputs": [],
   "source": [
    "ls = [item for item in [item['symbol'] for item in client.get_ticker() if float(item['priceChangePercent'])>10.0] if ('USDT' in item) & ('DOWN' not in item)]\n",
    "print_file(ls,'pairs_level_1')"
   ]
  },
  {
   "cell_type": "code",
   "execution_count": 18,
   "id": "40e295fe-fbd9-4ad9-9d5e-c3bb02a54235",
   "metadata": {},
   "outputs": [
    {
     "name": "stdout",
     "output_type": "stream",
     "text": [
      "['ADAUSDT', 'LINKUSDT', 'FETUSDT', 'THETAUSDT', 'DUSKUSDT', 'MTLUSDT', 'TOMOUSDT', 'PERLUSDT', 'NKNUSDT', 'ARPAUSDT', 'RLCUSDT', 'TCTUSDT', 'BTSUSDT', 'COTIUSDT', 'DATAUSDT', 'PNTUSDT', 'ADAUPUSDT', 'LINKUPUSDT', 'DGBUSDT', 'DCRUSDT', 'BLZUSDT', 'OCEANUSDT', 'RSRUSDT', 'TRBUSDT', 'DIAUSDT', 'BELUSDT', 'WINGUSDT', 'FLMUSDT', 'XVSUSDT', 'ALPHAUSDT', 'AUDIOUSDT', 'HARDUSDT', 'UNFIUSDT', 'TRUUSDT', 'LITUSDT', 'DODOUSDT', 'FISUSDT', 'PONDUSDT', 'DEGOUSDT', 'LINAUSDT', 'BAKEUSDT', 'ARUSDT', 'ATAUSDT', 'GTCUSDT', 'DEXEUSDT', 'VIDTUSDT', 'FRONTUSDT', 'CVPUSDT', 'CHESSUSDT', 'WOOUSDT']\n"
     ]
    }
   ],
   "source": [
    "level1 = [item for item in [item['symbol'] for item in client.get_ticker() if float(item['priceChangePercent'])>10.0] if ('USDT' in item) & ('DOWN' not in item)]\n",
    "print(level1)\n",
    "# for item in info:\n",
    "#     print(type(item['priceChangePercent']))"
   ]
  },
  {
   "cell_type": "code",
   "execution_count": 53,
   "id": "697c6a75-1a1d-43d0-b1f9-a4c31216cc3c",
   "metadata": {},
   "outputs": [],
   "source": [
    "def filter_symbol(level, list_of_symbols, threshold, time):\n",
    "\n",
    "    selected_symbols = []\n",
    "\n",
    "    for symbol in list_of_symbols:\n",
    "        klines = client.get_historical_klines(\n",
    "            symbol,\n",
    "            Client.KLINE_INTERVAL_1MINUTE,\n",
    "            str(datetime.now() - time),\n",
    "            str(datetime.now()),\n",
    "        )\n",
    "        \n",
    "        percent_change = get_percent_change(klines[0], klines[-1])\n",
    "\n",
    "        if percent_change > threshold:\n",
    "            selected_symbols.append(symbol)\n",
    "            print(symbol,percent_change)\n",
    "            \n",
    "    # with open(\"pairs_level_\"+str(level)+\".txt\", \"w\") as file:\n",
    "    print_file(selected_symbols,'pairs_level_'+str(level))\n",
    "        \n",
    "    return selected_symbols"
   ]
  },
  {
   "cell_type": "code",
   "execution_count": null,
   "id": "b79f39b2-b285-444b-8939-37d1afdcac16",
   "metadata": {},
   "outputs": [],
   "source": [
    "def filter_symbol(level, list_of_symbols, threshold, time):\n",
    "    selected_symbols = []\n",
    "\n",
    "    for symbol in list_of_symbols:\n",
    "        klines = client.get_historical_klines(\n",
    "            symbol,\n",
    "            Client.KLINE_INTERVAL_1MINUTE,\n",
    "            str(datetime.now() - time),\n",
    "            str(datetime.now()),\n",
    "        )\n",
    "\n",
    "        percent_change = get_percent_change(klines[0], klines[-1])\n",
    "\n",
    "        if percent_change > threshold:\n",
    "            selected_symbols.append(symbol)\n",
    "            print(symbol,percent_change)\n",
    "\n",
    "    print(selected_symbols)"
   ]
  },
  {
   "cell_type": "code",
   "execution_count": 26,
   "id": "a42cd26c-8dbe-4326-96f4-36799f14ff45",
   "metadata": {},
   "outputs": [],
   "source": [
    "def filter_symbol(level, list_of_symbols, threshold, window):\n",
    "    print('pairs_level_'+str(level))"
   ]
  },
  {
   "cell_type": "code",
   "execution_count": 54,
   "id": "53330c71-bca7-44e6-9ac8-455b62a5c0e3",
   "metadata": {},
   "outputs": [
    {
     "name": "stdout",
     "output_type": "stream",
     "text": [
      "BLZUSDT 10.4269\n",
      "WINGUSDT 44.5155\n",
      "FLMUSDT 27.1825\n",
      "LITUSDT 8.3515\n",
      "DEGOUSDT 15.5015\n",
      "ATAUSDT 9.3857\n"
     ]
    }
   ],
   "source": [
    "level2 = filter_symbol(2, level1, 6, timedelta(hours=12))"
   ]
  },
  {
   "cell_type": "code",
   "execution_count": 56,
   "id": "dd63e7f9-c8b3-472f-8b34-6cc5cdd7e7c9",
   "metadata": {
    "scrolled": true,
    "tags": []
   },
   "outputs": [
    {
     "name": "stdout",
     "output_type": "stream",
     "text": [
      "30\n",
      "[1654677480000, '1.34700000', '1.34800000', '1.34600000', '1.34800000', '1003.30000000', 1654677539999, '1351.48640000', 8, '801.80000000', '1080.08930000', '0']\n",
      "[1654679220000, '1.32500000', '1.32800000', '1.32400000', '1.32600000', '4207.80000000', 1654679279999, '5577.43230000', 45, '2303.90000000', '3053.68590000', '0']\n"
     ]
    }
   ],
   "source": [
    "klines = client.get_historical_klines(\n",
    "    'THETAUSDT',\n",
    "    Client.KLINE_INTERVAL_1MINUTE,\n",
    "    str(datetime.now() - timedelta(minutes=390)),\n",
    "    str(datetime.now()),\n",
    ")\n",
    "print(len(klines))\n",
    "print(klines[0])\n",
    "print(klines[-1])"
   ]
  }
 ],
 "metadata": {
  "kernelspec": {
   "display_name": "Python 3 (ipykernel)",
   "language": "python",
   "name": "python3"
  },
  "language_info": {
   "codemirror_mode": {
    "name": "ipython",
    "version": 3
   },
   "file_extension": ".py",
   "mimetype": "text/x-python",
   "name": "python",
   "nbconvert_exporter": "python",
   "pygments_lexer": "ipython3",
   "version": "3.8.10"
  }
 },
 "nbformat": 4,
 "nbformat_minor": 5
}
