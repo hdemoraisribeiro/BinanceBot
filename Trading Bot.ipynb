{
 "cells": [
  {
   "cell_type": "code",
   "execution_count": 8,
   "id": "d0bdccfd-332b-4c4b-b49b-bc72cc6aee71",
   "metadata": {},
   "outputs": [],
   "source": [
    "import time\n",
    "import sqlite3\n",
    "import pandas as pd\n",
    "import sqlalchemy, os\n",
    "from datetime import datetime\n",
    "from dotenv import load_dotenv\n",
    "from binance.client import Client\n",
    "\n",
    "load_dotenv()\n",
    "\n",
    "API_KEY = os.environ.get(\"API_KEY\")\n",
    "API_SECRET = os.environ.get(\"API_SECRET\")\n",
    "client = Client(API_KEY, API_SECRET)\n",
    "\n",
    "db = sqlite3.connect('crypto.db')\n",
    "db.cursor().execute(\"\"\"\n",
    "    CREATE TABLE inventory (\n",
    "        symbol TEXT,\n",
    "        avg_price REAL,\n",
    "        qty REAL,\n",
    "        buy_time REAL\n",
    "    )\"\"\")\n",
    "db.commit()\n",
    "db.close()"
   ]
  },
  {
   "cell_type": "code",
   "execution_count": 9,
   "id": "2d1389de-e410-4a87-b25c-4fd8a0418e87",
   "metadata": {},
   "outputs": [],
   "source": [
    "def fetchall():\n",
    "    db = sqlite3.connect('crypto.db')\n",
    "    cursor = db.cursor()\n",
    "    cursor.execute(\"SELECT * FROM inventory\")\n",
    "    alldata = cursor.fetchall()\n",
    "    db.commit()\n",
    "    db.close()\n",
    "    return alldata\n",
    "\n",
    "def extract_from_tuple(alldata, i = 0):\n",
    "    symbols = [x[i] for x in alldata]\n",
    "    return symbols\n",
    "\n",
    "def execute(command):\n",
    "    db = sqlite3.connect('crypto.db')\n",
    "    cursor = db.cursor()\n",
    "    cursor.execute(command)\n",
    "    db.commit()\n",
    "    db.close()\n",
    "    \n",
    "def add_to_db(symbol, price):\n",
    "    time = int(datetime.utcnow().strftime('%d%H%M%S'))\n",
    "    cursor.execute(f\"INSERT INTO inventory VALUES ('{symbol}',{price},{time})\")\n",
    "    \n",
    "def delete_from_db(symbol):\n",
    "    cursor.execute(f\"DELETE FROM inventory WHERE symbol = '{symbol}'\")\n",
    "\n",
    "def get_data(symbol):\n",
    "    db = sqlite3.connect('crypto.db')\n",
    "    cursor = db.cursor()\n",
    "    cursor.execute(f\"SELECT * FROM inventory WHERE symbol = '{symbol}'\")\n",
    "    data = cursor.fetchone()\n",
    "    db.commit()\n",
    "    db.close()\n",
    "    return data\n",
    "\n",
    "def buy_symbol(symbol):\n",
    "    qty=1\n",
    "    price = float(client.get_avg_price(symbol=symbol)['price'])\n",
    "    add_to_db(symbol,price,qty)\n",
    "    print(f\"{symbol} added to inventory at ${price}\")\n",
    "    # order = client.create_order(symbol=\"SLPUSDT\", side=\"BUY\", type=\"MARKET\", quantity=qty)\n",
    "    # print(order)\n",
    "\n",
    "def sell_symbol(symbol):\n",
    "    qty=get_data(symbol)[2]\n",
    "    price = float(client.get_avg_price(symbol=symbol)['price'])\n",
    "    buy_price = get_data(symbol)[1]\n",
    "    profit = float(\"{:.4f}\".format(((price-buy_price)/buy_price)*100))\n",
    "    # order = client.create_order(symbol=\"SLPUSDT\", side=\"SELL\", type=\"MARKET\", quantity=qty)\n",
    "    # print(order)\n",
    "    delete_from_db(symbol)\n",
    "    print(f\"Sold {symbol} at ${price} with {profit}% profit\")"
   ]
  },
  {
   "cell_type": "code",
   "execution_count": null,
   "id": "e4d724e0-7fb0-40c4-b10e-464dd2c025e3",
   "metadata": {
    "tags": []
   },
   "outputs": [
    {
     "name": "stdout",
     "output_type": "stream",
     "text": [
      "Program starts\n"
     ]
    }
   ],
   "source": [
    "def strategy(list_of_symbols):\n",
    "    inventory = extract_from_tuple(fetchall())\n",
    "    for symbol in list_of_symbols:\n",
    "        if symbol not in inventory:\n",
    "            buy_symbol(symbol)\n",
    "            \n",
    "    for symbol in inventory:\n",
    "        buy_time = get_data(symbol)[3]\n",
    "        time = int(datetime.utcnow().strftime('%d%H%M%S'))\n",
    "        # If more than 15 minutes have passed\n",
    "        if(time >= buy_time + 1500):\n",
    "            sell_symbol(symbol)\n",
    "\n",
    "def start():\n",
    "    with open('pairs_level_4.txt','r') as file:\n",
    "        file.seek(0) # Ensure you're at the start of the file..\n",
    "        first_char = file.read(1) # Get the first character\n",
    "        if not first_char:\n",
    "            pass # The first character is the empty string..\n",
    "        else:\n",
    "            file.seek(0) # The first character wasn't empty. Return to the start of the file.\n",
    "             # Use file now\n",
    "            strategy(file.readline().split(','))\n",
    "\n",
    "print(\"Program starts\")\n",
    "\n",
    "while(True):\n",
    "    time.sleep(5)\n",
    "    start()"
   ]
  }
 ],
 "metadata": {
  "kernelspec": {
   "display_name": "Python 3 (ipykernel)",
   "language": "python",
   "name": "python3"
  },
  "language_info": {
   "codemirror_mode": {
    "name": "ipython",
    "version": 3
   },
   "file_extension": ".py",
   "mimetype": "text/x-python",
   "name": "python",
   "nbconvert_exporter": "python",
   "pygments_lexer": "ipython3",
   "version": "3.8.10"
  }
 },
 "nbformat": 4,
 "nbformat_minor": 5
}
