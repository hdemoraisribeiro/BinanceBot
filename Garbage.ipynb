{
 "cells": [
  {
   "cell_type": "code",
   "execution_count": null,
   "id": "c5485d47-5f76-4da8-8021-4234e941d66b",
   "metadata": {},
   "outputs": [],
   "source": [
    "# fetch 1 minute klines for the last day up until now\n",
    "klines = client.get_historical_klines(\n",
    "    \"BNBBTC\", Client.KLINE_INTERVAL_1MINUTE, \"1 day ago UTC\"\n",
    ")\n",
    "\n",
    "# fetch 30 minute klines for the last month of 2017\n",
    "klines = client.get_historical_klines(\n",
    "    \"ETHBTC\", Client.KLINE_INTERVAL_30MINUTE, \"1 Dec, 2017\", \"1 Jan, 2018\"\n",
    ")\n",
    "\n",
    "# fetch weekly klines since it listed\n",
    "klines = client.get_historical_klines(\n",
    "    \"NEOBTC\", Client.KLINE_INTERVAL_1WEEK, \"1 Jan, 2017\"\n",
    ")\n",
    "\n",
    "# [\n",
    "#     1499040000000,      // 0 Open time\n",
    "#     \"0.01634790\",       // 1 Open\n",
    "#     \"0.80000000\",       // 2 High\n",
    "#     \"0.01575800\",       // 3 Low\n",
    "#     \"0.01577100\",       // 4 Close\n",
    "#     \"148976.11427815\",  // 5 Volume\n",
    "#     1499644799999,      // 6 Close time\n",
    "#     \"2434.19055334\",    // 7 Quote asset volume\n",
    "#     308,                // 8 Number of trades\n",
    "#     \"1756.87402397\",    // 9 Taker buy base asset volume\n",
    "#     \"28.46694368\",      // 10 Taker buy quote asset volume\n",
    "#     \"17928899.62484339\" // 11 Ignore.\n",
    "# ]"
   ]
  },
  {
   "cell_type": "markdown",
   "id": "3bd75e92-d513-4b26-927f-eb231bf0d099",
   "metadata": {
    "tags": []
   },
   "source": [
    "### Function for creating dataframe"
   ]
  },
  {
   "cell_type": "code",
   "execution_count": null,
   "id": "98b14ab3-0190-4c15-811b-0ffa40622ccf",
   "metadata": {},
   "outputs": [],
   "source": [
    "def createframe(msg):\n",
    "    df = pd.DataFrame([msg])\n",
    "    df = df.loc[:, [\"s\", \"E\", \"p\"]]\n",
    "    df.columns = [\"symbol\", \"Time\", \"Price\"]\n",
    "    df.Price = df.Price.astype(float)\n",
    "    df.Time = pd.to_datetime(df.Time, unit=\"ms\")\n",
    "    return df"
   ]
  },
  {
   "cell_type": "code",
   "execution_count": null,
   "id": "d0f91959-efbe-44ac-900b-a6fdcf7bdbc0",
   "metadata": {},
   "outputs": [],
   "source": [
    "while True:\n",
    "    await socket.__aenter__()\n",
    "    msg = await socket.recv()\n",
    "    while msg[\"e\"] == \"error\":\n",
    "        msg = await socket.recv()\n",
    "    frame = createframe(msg)\n",
    "    frame.to_sql(\"SLPUSDT\", engine, if_exists=\"append\", index=False)\n",
    "    print(frame)"
   ]
  },
  {
   "cell_type": "code",
   "execution_count": null,
   "id": "8503ce94-e487-48dd-b1ef-4fbf787a6859",
   "metadata": {
    "tags": []
   },
   "outputs": [],
   "source": [
    "data = [\n",
    "    ('OMUSDT', 352.53),\n",
    "    ('ENSUSDT',12.43)\n",
    "]\n",
    "db = sqlite3.connect('crypto.db')\n",
    "cursor = db.cursor()\n",
    "print(cursor.executemany(\"INSERT INTO inventory VALUES (?,?)\",data))\n",
    "db.commit()\n",
    "db.close()"
   ]
  }
 ],
 "metadata": {
  "kernelspec": {
   "display_name": "Python 3 (ipykernel)",
   "language": "python",
   "name": "python3"
  },
  "language_info": {
   "codemirror_mode": {
    "name": "ipython",
    "version": 3
   },
   "file_extension": ".py",
   "mimetype": "text/x-python",
   "name": "python",
   "nbconvert_exporter": "python",
   "pygments_lexer": "ipython3",
   "version": "3.8.10"
  }
 },
 "nbformat": 4,
 "nbformat_minor": 5
}
