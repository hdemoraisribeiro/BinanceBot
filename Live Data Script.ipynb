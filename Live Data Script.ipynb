{
 "cells": [
  {
   "cell_type": "markdown",
   "id": "464d4c29",
   "metadata": {},
   "source": [
    "### Import Libraries"
   ]
  },
  {
   "cell_type": "code",
   "execution_count": 1,
   "id": "627e2100",
   "metadata": {},
   "outputs": [
    {
     "data": {
      "text/plain": [
       "True"
      ]
     },
     "execution_count": 1,
     "metadata": {},
     "output_type": "execute_result"
    }
   ],
   "source": [
    "import pandas as pd\n",
    "import sqlalchemy, os\n",
    "from binance import BinanceSocketManager\n",
    "from binance.client import Client\n",
    "from dotenv import load_dotenv\n",
    "\n",
    "load_dotenv()"
   ]
  },
  {
   "cell_type": "markdown",
   "id": "e6611e3d",
   "metadata": {},
   "source": [
    "### Environment variables"
   ]
  },
  {
   "cell_type": "code",
   "execution_count": 2,
   "id": "35e3dfe0",
   "metadata": {},
   "outputs": [],
   "source": [
    "API_KEY = os.environ.get(\"API_KEY\")\n",
    "API_SECRET = os.environ.get(\"API_SECRET\")\n",
    "\n",
    "# Binance Client\n",
    "client = Client(API_KEY, API_SECRET)\n",
    "\n",
    "# SQLite EngineSQLite Engine\n",
    "# engine = sqlalchemy.create_engine('sqlite:///SLPUSDTstream.db')"
   ]
  },
  {
   "cell_type": "markdown",
   "id": "36fe774e-0645-4af9-9df9-11bb527fcb18",
   "metadata": {},
   "source": [
    "### Getting symbols (Level 1)"
   ]
  },
  {
   "cell_type": "code",
   "execution_count": 3,
   "id": "886e51ad-2542-45ed-b1d1-d84dedece6e9",
   "metadata": {},
   "outputs": [],
   "source": [
    "info = client.get_exchange_info()[\"symbols\"]\n",
    "\n",
    "# This'll contain all symbols in Binance that has USDT\n",
    "symbols_USDT = \"\"\n",
    "\n",
    "for item in info:\n",
    "    symbol = item[\"symbol\"]\n",
    "\n",
    "    if \"USDT\" in symbol:\n",
    "        symbols_USDT += symbol + \",\"\n",
    "\n",
    "symbols_USDT = symbols_USDT[:-1]\n",
    "\n",
    "with open(\"pairs.txt\", \"w\") as file:\n",
    "    file.write(symbols_USDT)"
   ]
  },
  {
   "cell_type": "markdown",
   "id": "14c824dd-4b2b-4d1b-9140-f3ffde7014cf",
   "metadata": {},
   "source": [
    "### Filter - percent change in 24hrs"
   ]
  },
  {
   "cell_type": "code",
   "execution_count": 4,
   "id": "c84bb80c-1dc1-4f61-a0a8-6c966f7b4f07",
   "metadata": {
    "scrolled": true,
    "tags": []
   },
   "outputs": [],
   "source": [
    "symbols = symbols_USDT.split(\",\")\n",
    "\n",
    "info = client.get_ticker()\n",
    "# All symbols paired with corresponding 24hrs change percentile\n",
    "all_change_pair = {}\n",
    "# All symbols with USDT paired with corresponding 24hrs change percentile\n",
    "USDT_change_pair = {}\n",
    "# List of symbols with more than x% change within 24hrs\n",
    "level1 = []\n",
    "\n",
    "for item in info:\n",
    "    all_change_pair[item[\"symbol\"]] = float(item[\"priceChangePercent\"])\n",
    "\n",
    "for item in all_change_pair:\n",
    "    if item in symbols:\n",
    "        USDT_change_pair[item] = all_change_pair[item]\n",
    "\n",
    "# Sort by 24hrs change percentage\n",
    "sorted_USDT_change_pair = {\n",
    "    pair[0]: pair[1]\n",
    "    for pair in sorted(USDT_change_pair.items(), key=lambda x: x[1], reverse=True)\n",
    "}\n",
    "\n",
    "for x in sorted_USDT_change_pair.items():\n",
    "    if x[1] > 10.0:\n",
    "        level1.append(x[0])\n",
    "\n",
    "with open(\"pairs_level1.txt\", \"w\") as file:\n",
    "    list_level1 = \"\"\n",
    "    for item in level1:\n",
    "        list_level1 += item + \",\"\n",
    "    file.write(list_level1[:-1])\n",
    "\n",
    "# level1 contains the list of symbols that pass the first criteria"
   ]
  },
  {
   "cell_type": "markdown",
   "id": "609d0f47-4070-4515-9bb6-3c96d46a2858",
   "metadata": {
    "tags": []
   },
   "source": [
    "### Filter - percent change in 6hrs"
   ]
  },
  {
   "cell_type": "code",
   "execution_count": 5,
   "id": "643dd4ad-d53a-460a-8385-98a114d001b1",
   "metadata": {},
   "outputs": [],
   "source": [
    "# Method for getting price\n",
    "def get_price(ls):\n",
    "    avg = (float(ls[1]) + float(ls[4])) / 2\n",
    "    price = float(\"{:.4f}\".format(avg))\n",
    "    return price\n",
    "\n",
    "\n",
    "# Method for getting percent change in 6 hour\n",
    "def get_percent_change(ls_1, ls_2):\n",
    "    price_1 = get_price(ls_1)\n",
    "    price_2 = get_price(ls_2)\n",
    "\n",
    "    change = (price_2 - price_1) / price_1\n",
    "\n",
    "    change_in_percent = float(\"{:.4f}\".format(change * 100))\n",
    "\n",
    "    return change_in_percent\n",
    "\n",
    "\n",
    "def filter2(list_of_symbols):\n",
    "    from datetime import datetime, timedelta\n",
    "\n",
    "    level2 = []\n",
    "\n",
    "    for symbol in list_of_symbols:\n",
    "\n",
    "        klines = client.get_historical_klines(\n",
    "            symbol,\n",
    "            Client.KLINE_INTERVAL_1MINUTE,\n",
    "            str(datetime.now() - timedelta(hours=12)),\n",
    "            str(datetime.now()),\n",
    "        )\n",
    "\n",
    "        percent_change = get_percent_change(klines[0], klines[-1])\n",
    "\n",
    "        if percent_change > 5:\n",
    "            level2.append(symbol)\n",
    "            print(symbol, percent_change)\n",
    "\n",
    "    return level2"
   ]
  },
  {
   "cell_type": "code",
   "execution_count": 6,
   "id": "5437540a-cfe6-4d2a-8a5a-27c365e9295f",
   "metadata": {},
   "outputs": [
    {
     "name": "stdout",
     "output_type": "stream",
     "text": [
      "APEUSDT 7.6075\n",
      "LINAUSDT 10.4167\n",
      "JASMYUSDT 12.9464\n",
      "SNXUSDT 6.1058\n",
      "MITHUSDT 6.4171\n",
      "REEFUSDT 7.2165\n",
      "AAVEUSDT 6.205\n",
      "ALPHAUSDT 7.4124\n",
      "MDTUSDT 6.5421\n",
      "DOTUPUSDT 6.1523\n",
      "DODOUSDT 6.1275\n",
      "BAKEUSDT 5.6755\n",
      "ADAUPUSDT 6.7784\n"
     ]
    }
   ],
   "source": [
    "level2 = filter2(level1)\n",
    "with open(\"pairs_level2.txt\", \"w\") as file:\n",
    "    list_level2 = \"\"\n",
    "    for item in level2:\n",
    "        list_level2 += item + \",\"\n",
    "    file.write(list_level2[:-1])"
   ]
  },
  {
   "cell_type": "markdown",
   "id": "d56a1ebe-fd38-457a-93a9-ea7812c02bba",
   "metadata": {},
   "source": [
    "### Filter - percent change in 1hr"
   ]
  },
  {
   "cell_type": "code",
   "execution_count": 7,
   "id": "7909ef16-ee69-42db-80c7-a05da15bcd00",
   "metadata": {},
   "outputs": [],
   "source": [
    "def filter3(list_of_symbols):\n",
    "    from datetime import datetime, timedelta\n",
    "\n",
    "    level3 = []\n",
    "\n",
    "    for symbol in list_of_symbols:\n",
    "\n",
    "        klines = client.get_historical_klines(\n",
    "            symbol,\n",
    "            Client.KLINE_INTERVAL_1MINUTE,\n",
    "            str(datetime.now() - timedelta(hours=7)),\n",
    "            str(datetime.now()),\n",
    "        )\n",
    "\n",
    "        percent_change = get_percent_change(klines[0], klines[-1])\n",
    "\n",
    "        if percent_change > 3:\n",
    "            level3.append(symbol)\n",
    "            print(symbol, percent_change)\n",
    "\n",
    "    return level3"
   ]
  },
  {
   "cell_type": "code",
   "execution_count": 8,
   "id": "944f7579-0bb7-43c0-9f8c-0cc1b44aa8fc",
   "metadata": {},
   "outputs": [
    {
     "name": "stdout",
     "output_type": "stream",
     "text": [
      "APEUSDT 3.5107\n",
      "SNXUSDT 5.9652\n",
      "ALPHAUSDT 3.3505\n"
     ]
    }
   ],
   "source": [
    "level3 = filter3(level2)\n",
    "with open(\"pairs_level3.txt\", \"w\") as file:\n",
    "    list_level3 = \"\"\n",
    "    for item in level3:\n",
    "        list_level3 += item + \",\"\n",
    "    file.write(list_level3[:-1])"
   ]
  },
  {
   "cell_type": "code",
   "execution_count": null,
   "id": "c8996796-f75d-4f81-981c-22cc4a56dfeb",
   "metadata": {},
   "outputs": [],
   "source": []
  }
 ],
 "metadata": {
  "kernelspec": {
   "display_name": "Python 3 (ipykernel)",
   "language": "python",
   "name": "python3"
  },
  "language_info": {
   "codemirror_mode": {
    "name": "ipython",
    "version": 3
   },
   "file_extension": ".py",
   "mimetype": "text/x-python",
   "name": "python",
   "nbconvert_exporter": "python",
   "pygments_lexer": "ipython3",
   "version": "3.8.10"
  }
 },
 "nbformat": 4,
 "nbformat_minor": 5
}
