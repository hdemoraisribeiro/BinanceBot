{
 "cells": [
  {
   "cell_type": "code",
   "execution_count": null,
   "id": "643dd4ad-d53a-460a-8385-98a114d001b1",
   "metadata": {},
   "outputs": [],
   "source": [
    "# Function for printing to files\n",
    "def print_file(ls, file):\n",
    "    with open(str(file)+'.txt','w') as file:\n",
    "        file.write(str(ls)[1:-1].replace(' ','').replace('\\'',''))\n",
    "        \n",
    "# Function for getting price\n",
    "def get_price(ls):\n",
    "    avg = (float(ls[1]) + float(ls[4])) / 2\n",
    "    price = float(\"{:.4f}\".format(avg))\n",
    "    return price\n",
    "\n",
    "# Function for getting percent change in 6 hour\n",
    "def get_percent_change(ls_1, ls_2):\n",
    "    change = (get_price(ls_2) - get_price(ls_1)) / get_price(ls_1) * 100\n",
    "    return float(\"{:.4f}\".format(change))\n",
    "\n",
    "# Function for flitering symbols using threshold\n",
    "def filter_symbol(level, list_of_symbols, threshold, time):\n",
    "    now_time = datetime.now()\n",
    "    prev_time = now_time - time\n",
    "    selected_symbols = []\n",
    "\n",
    "    for symbol in list_of_symbols:\n",
    "        klines = client.get_historical_klines(symbol, Client.KLINE_INTERVAL_1MINUTE, str(prev_time), str(now_time))\n",
    "\n",
    "        percent_change = get_percent_change(klines[0], klines[-1])\n",
    "\n",
    "        if percent_change > threshold:\n",
    "            selected_symbols.append(symbol)\n",
    "            print(symbol, percent_change)\n",
    "            \n",
    "    print_file(selected_symbols,'pairs_level_'+str(level))\n",
    "        \n",
    "    return selected_symbols"
   ]
  },
  {
   "cell_type": "markdown",
   "id": "32032106-38c8-42d3-9773-496e13f3a113",
   "metadata": {
    "tags": []
   },
   "source": [
    "### Import Libraries & Load Environment Variables"
   ]
  },
  {
   "cell_type": "code",
   "execution_count": null,
   "id": "627e2100",
   "metadata": {},
   "outputs": [],
   "source": [
    "import time\n",
    "import pandas as pd\n",
    "import sqlalchemy, os\n",
    "from binance.client import Client\n",
    "from binance import BinanceSocketManager\n",
    "from datetime import datetime, timedelta\n",
    "\n",
    "\n",
    "load_dotenv()\n",
    "\n",
    "API_KEY = os.environ.get(\"API_KEY\")\n",
    "API_SECRET = os.environ.get(\"API_SECRET\")\n",
    "\n",
    "# Binance Client\n",
    "client = Client(API_KEY, API_SECRET)\n",
    "\n",
    "list_symbols_USDT = [item[\"symbol\"] for item in client.get_exchange_info()[\"symbols\"] if (\"USDT\" in item[\"symbol\"]) & (\"DOWN\" not in item[\"symbol\"])]\n",
    "print_file(list_symbols_USDT,'pairs')"
   ]
  },
  {
   "cell_type": "markdown",
   "id": "48c9deea-154d-43c5-9aad-58bd6c0bfa09",
   "metadata": {},
   "source": [
    "### Main Code"
   ]
  },
  {
   "cell_type": "code",
   "execution_count": null,
   "id": "25d0e245-852c-432f-9feb-b4f48bcab093",
   "metadata": {
    "scrolled": true,
    "tags": []
   },
   "outputs": [],
   "source": [
    "def start():\n",
    "    level1 = [item for item in [item['symbol'] for item in client.get_ticker() if float(item['priceChangePercent'])>10.0] if ('USDT' in item) & ('DOWN' not in item)]\n",
    "    print_file(level1,'pairs_level_1')\n",
    "    \n",
    "    print(\"Level 2 - 6hrs window\")\n",
    "    level2 = filter_symbol(2, level1, 6, timedelta(hours=12)) #filter_symbol (level, list_of_symbols, threshold, timedelta)\n",
    "    print(\"\\nLevel 3 - 1hrs window\")\n",
    "    level3 = filter_symbol(3, level2, 3, timedelta(hours=7))\n",
    "    print('\\nLevel 4 - 30min window')\n",
    "    level4 = filter_symbol(4, level3, 1, timedelta(minutes=390))\n",
    "    print('\\n Finish iteration\\n')\n",
    "\n",
    "while(True):\n",
    "    start()"
   ]
  }
 ],
 "metadata": {
  "kernelspec": {
   "display_name": "Python 3 (ipykernel)",
   "language": "python",
   "name": "python3"
  },
  "language_info": {
   "codemirror_mode": {
    "name": "ipython",
    "version": 3
   },
   "file_extension": ".py",
   "mimetype": "text/x-python",
   "name": "python",
   "nbconvert_exporter": "python",
   "pygments_lexer": "ipython3",
   "version": "3.8.10"
  }
 },
 "nbformat": 4,
 "nbformat_minor": 5
}
